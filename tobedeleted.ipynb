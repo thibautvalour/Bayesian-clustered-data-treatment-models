{
 "cells": [
  {
   "cell_type": "code",
   "execution_count": 26,
   "metadata": {},
   "outputs": [],
   "source": [
    "import numpy as np\n",
    "import torch\n",
    "import scipy.stats as stats\n",
    "\n",
    "from utils import is_positive_definite, flat_sigma_to_sigma_matrix, sigma_matrix_to_flat_sigma\n",
    "from init import init\n",
    "from likelyhoods import log_likelyhood_ys, log_g_sigma, q_sigma\n",
    "\n",
    "s, w, x, y, z, sigma_matrix, gamma, beta_0, beta_1, g_0, G_0, beta_0_init, B_0 = init()"
   ]
  },
  {
   "cell_type": "code",
   "execution_count": 43,
   "metadata": {},
   "outputs": [],
   "source": [
    "def sample_sigma(old_sigma_matrix, s, w, x, z, beta_0, beta_1, gamma, g_0, G_0):\n",
    "    old_flat_sigma = sigma_matrix_to_flat_sigma(old_sigma_matrix)\n",
    "    old_log_g_sigma_likely = log_g_sigma(w, s, x, z, beta_0, beta_1, gamma, old_flat_sigma, g_0, G_0)\n",
    "    old_q_sigma_likely = q_sigma(w, s, x, z, beta_0, beta_1, gamma, old_sigma_matrix, g_0, G_0, sample=False)\n",
    "\n",
    "    # generation of new_sigma \n",
    "    new_sigma_flat = q_sigma(w, s, x, z, beta_0, beta_1, gamma, old_sigma_matrix,\n",
    "                             g_0, G_0, sample=True)\n",
    "    new_sigma_matrix = flat_sigma_to_sigma_matrix(new_sigma_flat)\n",
    "    if not is_positive_definite(new_sigma_matrix):\n",
    "        return old_sigma_matrix\n",
    "    new_log_g_sigma_likely = log_g_sigma(w, s, x, z, beta_0, beta_1, gamma, new_sigma_flat, g_0, G_0)\n",
    "    new_q_sigma_likely = q_sigma(w, s, x, z, beta_0, beta_1, gamma, new_sigma_matrix, g_0, G_0, sample=False)\n",
    "\n",
    "    # acceptance ratio\n",
    "    g_sigma_likely_ratio = torch.exp(new_log_g_sigma_likely - old_log_g_sigma_likely)\n",
    "    acceptance_ratio = g_sigma_likely_ratio*new_q_sigma_likely/old_q_sigma_likely\n",
    "\n",
    "    if acceptance_ratio > np.random.uniform():\n",
    "        return new_sigma_matrix\n",
    "    else:\n",
    "        return old_sigma_matrix"
   ]
  },
  {
   "cell_type": "code",
   "execution_count": 46,
   "metadata": {},
   "outputs": [],
   "source": [
    "def sample_zi_star(w, x, s, z, gamma, beta_0, beta_1, sigma_matrix):\n",
    "    '''zi_star = si_star, z_i[1 - si]\n",
    "    '''\n",
    "    si_star = np.zeros(len(s))\n",
    "    for i in range(len(s)):\n",
    "        treatment = s[i]\n",
    "        if treatment == 0:\n",
    "            si_star[i] = stats.truncnorm.rvs(a=-np.inf, b=0,\n",
    "                                             loc=np.dot(w[i], gamma), scale=1)\n",
    "            z[1][i] = stats.norm.rvs(loc=np.dot(x[i], beta_1),\n",
    "                                     scale=sigma_matrix[2][2]**2)\n",
    "        else:\n",
    "            si_star[i] = stats.truncnorm.rvs(a=0, b=np.inf,\n",
    "                                             loc=np.dot(w[i], gamma), scale=1)\n",
    "            z[0][i] = stats.norm.rvs(loc=np.dot(x[i], beta_0),\n",
    "                                     scale=sigma_matrix[1][1]**2)\n",
    "    return si_star, z\n",
    "\n",
    "s_star, z = sample_zi_star(w, x, s, z, gamma, beta_0, beta_1, sigma_matrix)"
   ]
  },
  {
   "cell_type": "code",
   "execution_count": 50,
   "metadata": {},
   "outputs": [
    {
     "ename": "ValueError",
     "evalue": "could not broadcast input array from shape (500,4) into shape (500,)",
     "output_type": "error",
     "traceback": [
      "\u001b[1;31m---------------------------------------------------------------------------\u001b[0m",
      "\u001b[1;31mValueError\u001b[0m                                Traceback (most recent call last)",
      "Cell \u001b[1;32mIn[50], line 19\u001b[0m\n\u001b[0;32m     16\u001b[0m     new_beta \u001b[39m=\u001b[39m stats\u001b[39m.\u001b[39mmultivariate_normal\u001b[39m.\u001b[39mrvs(loc\u001b[39m=\u001b[39mbeta_hat, shape\u001b[39m=\u001b[39mB)\n\u001b[0;32m     17\u001b[0m     \u001b[39mreturn\u001b[39;00m new_beta\n\u001b[1;32m---> 19\u001b[0m sample_beta(w, x, s, z, gamma, beta_0,\n\u001b[0;32m     20\u001b[0m                 beta_1, sigma_matrix, B_0, beta_0_init, s_star)\n",
      "Cell \u001b[1;32mIn[50], line 6\u001b[0m, in \u001b[0;36msample_beta\u001b[1;34m(w, x, s, z, gamma, beta_0, beta_1, sigma_matrix, B_0, beta_0_init, s_star)\u001b[0m\n\u001b[0;32m      4\u001b[0m new_z[:, \u001b[39m0\u001b[39m], new_z[:,\u001b[39m1\u001b[39m], new_z[:, \u001b[39m2\u001b[39m] \u001b[39m=\u001b[39m s_star, z[\u001b[39m0\u001b[39m], z[\u001b[39m1\u001b[39m]\n\u001b[0;32m      5\u001b[0m big_X \u001b[39m=\u001b[39m np\u001b[39m.\u001b[39mzeros((\u001b[39mlen\u001b[39m(s), \u001b[39m3\u001b[39m))\n\u001b[1;32m----> 6\u001b[0m big_X[:, \u001b[39m0\u001b[39m], big_X[:, \u001b[39m1\u001b[39m], big_X[:, \u001b[39m2\u001b[39m] \u001b[39m=\u001b[39m s, x, x\n\u001b[0;32m      8\u001b[0m sigma_inv \u001b[39m=\u001b[39m np\u001b[39m.\u001b[39mlinalg\u001b[39m.\u001b[39minv(sigma_matrix)\n\u001b[0;32m      9\u001b[0m B_0_inv \u001b[39m=\u001b[39m np\u001b[39m.\u001b[39mlinalg\u001b[39m.\u001b[39minv(B_0)\n",
      "\u001b[1;31mValueError\u001b[0m: could not broadcast input array from shape (500,4) into shape (500,)"
     ]
    }
   ],
   "source": [
    "def sample_beta(w, x, s, z, gamma, beta_0,\n",
    "                beta_1, sigma_matrix, B_0, beta_0_init, s_star):\n",
    "    new_z = np.zeros((len(s), 3))\n",
    "    new_z[:, 0], new_z[:,1], new_z[:, 2] = s_star, z[0], z[1]\n",
    "    big_X = np.zeros((len(s), 3))\n",
    "    big_X[:, 0:5], big_X[:, 5:9], big_X[:, 9:13] = w, x, x\n",
    "\n",
    "    sigma_inv = np.linalg.inv(sigma_matrix)\n",
    "    B_0_inv = np.linalg.inv(B_0)\n",
    "    B = np.linalg.inv(B_0_inv + np.sum([np.dot(np.dot(big_X[i], sigma_inv), big_X[i])\n",
    "                                        for i in range(len(big_X))]))\n",
    "    beta_hat = np.dot(B, np.dot(B_0_inv, beta_0_init)\n",
    "                         + np.sum([np.dot(np.dot(big_X[i], sigma_inv), new_z[i])\n",
    "                                   for i in range(len(big_X))]))\n",
    "\n",
    "    new_beta = stats.multivariate_normal.rvs(loc=beta_hat, shape=B)\n",
    "    return new_beta\n",
    "\n",
    "sample_beta(w, x, s, z, gamma, beta_0,\n",
    "            beta_1, sigma_matrix, B_0,\n",
    "            beta_0_init, s_star)"
   ]
  }
 ],
 "metadata": {
  "kernelspec": {
   "display_name": "venv",
   "language": "python",
   "name": "python3"
  },
  "language_info": {
   "codemirror_mode": {
    "name": "ipython",
    "version": 3
   },
   "file_extension": ".py",
   "mimetype": "text/x-python",
   "name": "python",
   "nbconvert_exporter": "python",
   "pygments_lexer": "ipython3",
   "version": "3.9.13"
  },
  "orig_nbformat": 4,
  "vscode": {
   "interpreter": {
    "hash": "737dc7a53ad0f66992e7d8e25dc907e77810167821e3c90ca70c5c5ee7cee45a"
   }
  }
 },
 "nbformat": 4,
 "nbformat_minor": 2
}
