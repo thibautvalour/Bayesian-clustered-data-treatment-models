{
 "cells": [
  {
   "cell_type": "code",
   "execution_count": 45,
   "metadata": {},
   "outputs": [],
   "source": [
    "import numpy as np\n",
    "import pandas as pd\n",
    "import matplotlib.pyplot as plt\n",
    "import seaborn as sns\n",
    "import math\n",
    "import jax\n",
    "\n",
    "import scipy.stats as stats\n",
    "from scipy.optimize import minimize\n",
    "\n",
    "import autograd.numpy as auto_np\n",
    "from autograd import hessian\n",
    "\n",
    "from utils import is_positive_definite, flat_sigma_to_sigma_matrix, sigma_matrix_to_flat_sigma\n",
    "from init import init\n",
    "\n",
    "s, w, x, y, z, sigma_matrix, beta, g_0, G_0, beta_0_init, B_0 = init()\n",
    "gamma, beta_0, beta_1 = beta[:5], beta[5:9], beta[9:]"
   ]
  },
  {
   "cell_type": "code",
   "execution_count": 46,
   "metadata": {},
   "outputs": [
    {
     "ename": "IndexError",
     "evalue": "Too many indices for array: 1 non-None/Ellipsis indices for dim 0.",
     "output_type": "error",
     "traceback": [
      "\u001b[1;31m---------------------------------------------------------------------------\u001b[0m",
      "\u001b[1;31mIndexError\u001b[0m                                Traceback (most recent call last)",
      "Cell \u001b[1;32mIn[46], line 59\u001b[0m\n\u001b[0;32m     55\u001b[0m     \u001b[39melse\u001b[39;00m:\n\u001b[0;32m     56\u001b[0m         \u001b[39m# return likelyhood of sigma given mode and V\u001b[39;00m\n\u001b[0;32m     57\u001b[0m         \u001b[39mreturn\u001b[39;00m stats\u001b[39m.\u001b[39mmultivariate_t\u001b[39m.\u001b[39mpdf(sigma_matrix, mode, V)\n\u001b[1;32m---> 59\u001b[0m q_sigma(w, s, x, z, beta_0, beta_1, gamma, sigma_matrix, g_0, G_0, sample\u001b[39m=\u001b[39;49m\u001b[39mFalse\u001b[39;49;00m)\n",
      "Cell \u001b[1;32mIn[46], line 44\u001b[0m, in \u001b[0;36mq_sigma\u001b[1;34m(w, s, x, z, beta_0, beta_1, gamma, sigma_matrix, g_0, G_0, sample)\u001b[0m\n\u001b[0;32m     41\u001b[0m     \u001b[39mreturn\u001b[39;00m log_g_sigma(w, s, x, z, beta_0, beta_1, gamma, sigma_matrix, g_0, G_0) \n\u001b[0;32m     43\u001b[0m sigma_flat \u001b[39m=\u001b[39m sigma_matrix_to_flat_sigma(sigma_matrix)\n\u001b[1;32m---> 44\u001b[0m H \u001b[39m=\u001b[39m jax\u001b[39m.\u001b[39;49mhessian(sub_log_g_sigma)(sigma_flat)\n\u001b[0;32m     46\u001b[0m V \u001b[39m=\u001b[39m np\u001b[39m.\u001b[39mlinalg\u001b[39m.\u001b[39minv(\u001b[39m-\u001b[39mH)\n\u001b[0;32m     48\u001b[0m \u001b[39m# Compute mu the mode of sub_log_g_sigma\u001b[39;00m\n",
      "File \u001b[1;32mc:\\Users\\33646\\Desktop\\ENSAE\\Stat_Bayesienne\\Projet\\venv\\lib\\site-packages\\jax\\_src\\api.py:1172\u001b[0m, in \u001b[0;36mjacfwd.<locals>.jacfun\u001b[1;34m(*args, **kwargs)\u001b[0m\n\u001b[0;32m   1170\u001b[0m \u001b[39mif\u001b[39;00m \u001b[39mnot\u001b[39;00m has_aux:\n\u001b[0;32m   1171\u001b[0m   pushfwd \u001b[39m=\u001b[39m partial(_jvp, f_partial, dyn_args)\n\u001b[1;32m-> 1172\u001b[0m   y, jac \u001b[39m=\u001b[39m vmap(pushfwd, out_axes\u001b[39m=\u001b[39;49m(\u001b[39mNone\u001b[39;49;00m, \u001b[39m-\u001b[39;49m\u001b[39m1\u001b[39;49m))(_std_basis(dyn_args))\n\u001b[0;32m   1173\u001b[0m \u001b[39melse\u001b[39;00m:\n\u001b[0;32m   1174\u001b[0m   pushfwd \u001b[39m=\u001b[39m partial(_jvp, f_partial, dyn_args, has_aux\u001b[39m=\u001b[39m\u001b[39mTrue\u001b[39;00m)\n",
      "    \u001b[1;31m[... skipping hidden 12 frame]\u001b[0m\n",
      "Cell \u001b[1;32mIn[46], line 41\u001b[0m, in \u001b[0;36mq_sigma.<locals>.sub_log_g_sigma\u001b[1;34m(sigma_matrix)\u001b[0m\n\u001b[0;32m     40\u001b[0m \u001b[39mdef\u001b[39;00m \u001b[39msub_log_g_sigma\u001b[39m(sigma_matrix):\n\u001b[1;32m---> 41\u001b[0m     \u001b[39mreturn\u001b[39;00m log_g_sigma(w, s, x, z, beta_0, beta_1, gamma, sigma_matrix, g_0, G_0)\n",
      "Cell \u001b[1;32mIn[46], line 26\u001b[0m, in \u001b[0;36mlog_g_sigma\u001b[1;34m(w, s, x, z, beta_0, beta_1, gamma, sigma_matrix, g_0, G_0)\u001b[0m\n\u001b[0;32m     23\u001b[0m \u001b[39mdef\u001b[39;00m \u001b[39mlog_g_sigma\u001b[39m(w, s, x, z, beta_0, beta_1, gamma, sigma_matrix, g_0, G_0):\n\u001b[0;32m     24\u001b[0m \n\u001b[0;32m     25\u001b[0m     \u001b[39m# likelihood of ys given sigma\u001b[39;00m\n\u001b[1;32m---> 26\u001b[0m     first_term \u001b[39m=\u001b[39m log_likelyhood_ys(w, x, s, z, gamma, beta_0, beta_1, sigma_matrix)\n\u001b[0;32m     28\u001b[0m     \u001b[39m# density of sigma given g_0, G_0\u001b[39;00m\n\u001b[0;32m     29\u001b[0m     flat_sigma \u001b[39m=\u001b[39m sigma_matrix_to_flat_sigma(sigma_matrix)\n",
      "Cell \u001b[1;32mIn[46], line 14\u001b[0m, in \u001b[0;36mlog_likelyhood_ys\u001b[1;34m(w, x, s, z, gamma, beta_0, beta_1, sigma_matrix)\u001b[0m\n\u001b[0;32m      9\u001b[0m     normal_cdf \u001b[39m=\u001b[39m stats\u001b[39m.\u001b[39mnorm\u001b[39m.\u001b[39mcdf((np\u001b[39m.\u001b[39mdot(\u001b[39m-\u001b[39mw[i], gamma) \u001b[39m-\u001b[39m (sigma_matrix[\u001b[39m0\u001b[39m][\u001b[39m1\u001b[39m]\u001b[39m/\u001b[39msigma_matrix[\u001b[39m1\u001b[39m][\u001b[39m1\u001b[39m])\n\u001b[0;32m     10\u001b[0m                                  \u001b[39m*\u001b[39m (z[\u001b[39m0\u001b[39m][i] \u001b[39m-\u001b[39m np\u001b[39m.\u001b[39mdot(x[i], beta_0)))\n\u001b[0;32m     11\u001b[0m                                  \u001b[39m/\u001b[39m (\u001b[39m1\u001b[39m\u001b[39m-\u001b[39msigma_matrix[\u001b[39m0\u001b[39m][\u001b[39m1\u001b[39m]\u001b[39m*\u001b[39m\u001b[39m*\u001b[39m\u001b[39m2\u001b[39m\u001b[39m/\u001b[39msigma_matrix[\u001b[39m1\u001b[39m][\u001b[39m1\u001b[39m])\u001b[39m*\u001b[39m\u001b[39m*\u001b[39m\u001b[39m0.5\u001b[39m)\n\u001b[0;32m     12\u001b[0m \u001b[39melse\u001b[39;00m:\n\u001b[0;32m     13\u001b[0m     fn \u001b[39m=\u001b[39m stats\u001b[39m.\u001b[39mnorm\u001b[39m.\u001b[39mpdf(z[\u001b[39m1\u001b[39m][i],  loc\u001b[39m=\u001b[39mnp\u001b[39m.\u001b[39mdot(x[i], beta_1), \n\u001b[1;32m---> 14\u001b[0m                         scale\u001b[39m=\u001b[39msigma_matrix[\u001b[39m2\u001b[39;49m][\u001b[39m2\u001b[39;49m]\u001b[39m*\u001b[39m\u001b[39m*\u001b[39m\u001b[39m2\u001b[39m)\n\u001b[0;32m     15\u001b[0m     normal_cdf \u001b[39m=\u001b[39m stats\u001b[39m.\u001b[39mnorm\u001b[39m.\u001b[39mcdf((np\u001b[39m.\u001b[39mdot(\u001b[39m-\u001b[39mw[i], gamma) \u001b[39m-\u001b[39m (sigma_matrix[\u001b[39m0\u001b[39m][\u001b[39m2\u001b[39m]\u001b[39m/\u001b[39msigma_matrix[\u001b[39m2\u001b[39m][\u001b[39m2\u001b[39m])\n\u001b[0;32m     16\u001b[0m                                  \u001b[39m*\u001b[39m (z[\u001b[39m1\u001b[39m][i] \u001b[39m-\u001b[39m np\u001b[39m.\u001b[39mdot(x[i], beta_1)))\n\u001b[0;32m     17\u001b[0m                                  \u001b[39m/\u001b[39m (\u001b[39m1\u001b[39m\u001b[39m-\u001b[39msigma_matrix[\u001b[39m0\u001b[39m][\u001b[39m2\u001b[39m]\u001b[39m*\u001b[39m\u001b[39m*\u001b[39m\u001b[39m2\u001b[39m\u001b[39m/\u001b[39msigma_matrix[\u001b[39m2\u001b[39m][\u001b[39m2\u001b[39m])\u001b[39m*\u001b[39m\u001b[39m*\u001b[39m\u001b[39m0.5\u001b[39m)\n\u001b[0;32m     19\u001b[0m log_prod \u001b[39m+\u001b[39m\u001b[39m=\u001b[39m np\u001b[39m.\u001b[39mlog(\u001b[39mmax\u001b[39m(fn \u001b[39m*\u001b[39m normal_cdf, \u001b[39m10\u001b[39m\u001b[39m*\u001b[39m\u001b[39m*\u001b[39m\u001b[39m-\u001b[39m\u001b[39m300\u001b[39m))\n",
      "    \u001b[1;31m[... skipping hidden 1 frame]\u001b[0m\n",
      "File \u001b[1;32mc:\\Users\\33646\\Desktop\\ENSAE\\Stat_Bayesienne\\Projet\\venv\\lib\\site-packages\\jax\\_src\\numpy\\lax_numpy.py:3570\u001b[0m, in \u001b[0;36m_rewriting_take\u001b[1;34m(arr, idx, indices_are_sorted, unique_indices, mode, fill_value)\u001b[0m\n\u001b[0;32m   3567\u001b[0m   \u001b[39mreturn\u001b[39;00m _getslice(arr, start, stop)\n\u001b[0;32m   3569\u001b[0m treedef, static_idx, dynamic_idx \u001b[39m=\u001b[39m _split_index_for_jit(idx, arr\u001b[39m.\u001b[39mshape)\n\u001b[1;32m-> 3570\u001b[0m \u001b[39mreturn\u001b[39;00m _gather(arr, treedef, static_idx, dynamic_idx, indices_are_sorted,\n\u001b[0;32m   3571\u001b[0m                unique_indices, mode, fill_value)\n",
      "File \u001b[1;32mc:\\Users\\33646\\Desktop\\ENSAE\\Stat_Bayesienne\\Projet\\venv\\lib\\site-packages\\jax\\_src\\numpy\\lax_numpy.py:3579\u001b[0m, in \u001b[0;36m_gather\u001b[1;34m(arr, treedef, static_idx, dynamic_idx, indices_are_sorted, unique_indices, mode, fill_value)\u001b[0m\n\u001b[0;32m   3576\u001b[0m \u001b[39mdef\u001b[39;00m \u001b[39m_gather\u001b[39m(arr, treedef, static_idx, dynamic_idx, indices_are_sorted,\n\u001b[0;32m   3577\u001b[0m             unique_indices, mode, fill_value):\n\u001b[0;32m   3578\u001b[0m   idx \u001b[39m=\u001b[39m _merge_static_and_dynamic_indices(treedef, static_idx, dynamic_idx)\n\u001b[1;32m-> 3579\u001b[0m   indexer \u001b[39m=\u001b[39m _index_to_gather(shape(arr), idx)  \u001b[39m# shared with _scatter_update\u001b[39;00m\n\u001b[0;32m   3580\u001b[0m   y \u001b[39m=\u001b[39m arr\n\u001b[0;32m   3582\u001b[0m   \u001b[39mif\u001b[39;00m fill_value \u001b[39mis\u001b[39;00m \u001b[39mnot\u001b[39;00m \u001b[39mNone\u001b[39;00m:\n",
      "File \u001b[1;32mc:\\Users\\33646\\Desktop\\ENSAE\\Stat_Bayesienne\\Projet\\venv\\lib\\site-packages\\jax\\_src\\numpy\\lax_numpy.py:3680\u001b[0m, in \u001b[0;36m_index_to_gather\u001b[1;34m(x_shape, idx, normalize_indices)\u001b[0m\n\u001b[0;32m   3678\u001b[0m \u001b[39mdef\u001b[39;00m \u001b[39m_index_to_gather\u001b[39m(x_shape, idx, normalize_indices\u001b[39m=\u001b[39m\u001b[39mTrue\u001b[39;00m):\n\u001b[0;32m   3679\u001b[0m   \u001b[39m# Remove ellipses and add trailing slice(None)s.\u001b[39;00m\n\u001b[1;32m-> 3680\u001b[0m   idx \u001b[39m=\u001b[39m _canonicalize_tuple_index(\u001b[39mlen\u001b[39;49m(x_shape), idx)\n\u001b[0;32m   3682\u001b[0m   \u001b[39m# Check for advanced indexing:\u001b[39;00m\n\u001b[0;32m   3683\u001b[0m   \u001b[39m# https://docs.scipy.org/doc/numpy/reference/arrays.indexing.html#advanced-indexing\u001b[39;00m\n\u001b[0;32m   3684\u001b[0m \n\u001b[0;32m   3685\u001b[0m   \u001b[39m# Do the advanced indexing axes appear contiguously? If not, NumPy semantics\u001b[39;00m\n\u001b[0;32m   3686\u001b[0m   \u001b[39m# move the advanced axes to the front.\u001b[39;00m\n\u001b[0;32m   3687\u001b[0m   advanced_axes_are_contiguous \u001b[39m=\u001b[39m \u001b[39mFalse\u001b[39;00m\n",
      "File \u001b[1;32mc:\\Users\\33646\\Desktop\\ENSAE\\Stat_Bayesienne\\Projet\\venv\\lib\\site-packages\\jax\\_src\\numpy\\lax_numpy.py:4013\u001b[0m, in \u001b[0;36m_canonicalize_tuple_index\u001b[1;34m(arr_ndim, idx, array_name)\u001b[0m\n\u001b[0;32m   4011\u001b[0m len_without_none \u001b[39m=\u001b[39m _sum(\u001b[39m1\u001b[39m \u001b[39mfor\u001b[39;00m e \u001b[39min\u001b[39;00m idx \u001b[39mif\u001b[39;00m e \u001b[39mis\u001b[39;00m \u001b[39mnot\u001b[39;00m \u001b[39mNone\u001b[39;00m \u001b[39mand\u001b[39;00m e \u001b[39mis\u001b[39;00m \u001b[39mnot\u001b[39;00m \u001b[39mEllipsis\u001b[39m)\n\u001b[0;32m   4012\u001b[0m \u001b[39mif\u001b[39;00m len_without_none \u001b[39m>\u001b[39m arr_ndim:\n\u001b[1;32m-> 4013\u001b[0m   \u001b[39mraise\u001b[39;00m \u001b[39mIndexError\u001b[39;00m(\n\u001b[0;32m   4014\u001b[0m       \u001b[39mf\u001b[39m\u001b[39m\"\u001b[39m\u001b[39mToo many indices for \u001b[39m\u001b[39m{\u001b[39;00marray_name\u001b[39m}\u001b[39;00m\u001b[39m: \u001b[39m\u001b[39m{\u001b[39;00mlen_without_none\u001b[39m}\u001b[39;00m\u001b[39m \u001b[39m\u001b[39m\"\u001b[39m\n\u001b[0;32m   4015\u001b[0m       \u001b[39mf\u001b[39m\u001b[39m\"\u001b[39m\u001b[39mnon-None/Ellipsis indices for dim \u001b[39m\u001b[39m{\u001b[39;00marr_ndim\u001b[39m}\u001b[39;00m\u001b[39m.\u001b[39m\u001b[39m\"\u001b[39m)\n\u001b[0;32m   4016\u001b[0m ellipses \u001b[39m=\u001b[39m (i \u001b[39mfor\u001b[39;00m i, elt \u001b[39min\u001b[39;00m \u001b[39menumerate\u001b[39m(idx) \u001b[39mif\u001b[39;00m elt \u001b[39mis\u001b[39;00m \u001b[39mEllipsis\u001b[39m)\n\u001b[0;32m   4017\u001b[0m ellipsis_index \u001b[39m=\u001b[39m \u001b[39mnext\u001b[39m(ellipses, \u001b[39mNone\u001b[39;00m)\n",
      "\u001b[1;31mIndexError\u001b[0m: Too many indices for array: 1 non-None/Ellipsis indices for dim 0."
     ]
    }
   ],
   "source": [
    "def log_likelyhood_ys(w, x, s, z, gamma, beta_0, beta_1, sigma_matrix):\n",
    "    \n",
    "    log_prod = 0\n",
    "    for i in range(len(s)):\n",
    "        treatment = s[i]\n",
    "        if treatment == 0:\n",
    "            fn = stats.norm.pdf(z[0][i],  loc=np.dot(x[i], beta_0), \n",
    "                                scale=sigma_matrix[1][1]**2)\n",
    "            normal_cdf = stats.norm.cdf((np.dot(-w[i], gamma) - (sigma_matrix[0][1]/sigma_matrix[1][1])\n",
    "                                         * (z[0][i] - np.dot(x[i], beta_0)))\n",
    "                                         / (1-sigma_matrix[0][1]**2/sigma_matrix[1][1])**0.5)\n",
    "        else:\n",
    "            fn = stats.norm.pdf(z[1][i],  loc=np.dot(x[i], beta_1), \n",
    "                                scale=sigma_matrix[2][2]**2)\n",
    "            normal_cdf = stats.norm.cdf((np.dot(-w[i], gamma) - (sigma_matrix[0][2]/sigma_matrix[2][2])\n",
    "                                         * (z[1][i] - np.dot(x[i], beta_1)))\n",
    "                                         / (1-sigma_matrix[0][2]**2/sigma_matrix[2][2])**0.5)\n",
    "                    \n",
    "        log_prod += np.log(max(fn * normal_cdf, 10**-300))\n",
    "\n",
    "    return log_prod\n",
    "\n",
    "def log_g_sigma(w, s, x, z, beta_0, beta_1, gamma, flat_sigma, g_0, G_0):\n",
    "\n",
    "    sigma_matrix = flat_sigma_to_sigma_matrix(sigma_matrix)\n",
    "    # likelihood of ys given sigma\n",
    "    first_term = log_likelyhood_ys(w, x, s, z, gamma, beta_0, beta_1, sigma_matrix)\n",
    "\n",
    "    # density of sigma given g_0, G_0\n",
    "    second_term = np.log(stats.multivariate_normal.pdf(flat_sigma, g_0, G_0))\n",
    "\n",
    "    third_term = 0 if is_positive_definite(sigma_matrix) else 0\n",
    "    \n",
    "\n",
    "    result = first_term + second_term + third_term\n",
    "    return result\n",
    "\n",
    "def q_sigma(w, s, x, z, beta_0, beta_1, gamma, sigma_matrix, g_0, G_0, sample=True):\n",
    "\n",
    "    def sub_log_g_sigma(sigma_matrix):\n",
    "        return log_g_sigma(w, s, x, z, beta_0, beta_1, gamma, sigma_matrix, g_0, G_0) \n",
    "\n",
    "    sigma_flat = sigma_matrix_to_flat_sigma(sigma_matrix)\n",
    "    H = jax.hessian(sub_log_g_sigma)(sigma_flat)\n",
    "\n",
    "    V = np.linalg.inv(-H)\n",
    "\n",
    "    # Compute mu the mode of sub_log_g_sigma\n",
    "    result = minimize(-log_g_sigma, x0=sigma_matrix)\n",
    "    mode = result.x[0]\n",
    "\n",
    "    if sample:\n",
    "        # sample from multivariate t density\n",
    "        return stats.multivariate_t.rvs(loc=mode, shape=V)\n",
    "    else:\n",
    "        # return likelyhood of sigma given mode and V\n",
    "        return stats.multivariate_t.pdf(sigma_matrix, mode, V)\n",
    "\n",
    "q_sigma(w, s, x, z, beta_0, beta_1, gamma, sigma_matrix, g_0, G_0, sample=False)"
   ]
  },
  {
   "cell_type": "code",
   "execution_count": 44,
   "metadata": {},
   "outputs": [
    {
     "data": {
      "text/plain": [
       "DeviceArray([[[2., 0.],\n",
       "              [0., 0.]],\n",
       "\n",
       "             [[0., 0.],\n",
       "              [0., 2.]]], dtype=float32)"
      ]
     },
     "execution_count": 44,
     "metadata": {},
     "output_type": "execute_result"
    }
   ],
   "source": [
    "\n",
    "\n",
    "def x_square(x):\n",
    "    return x**2\n",
    "\n",
    "jax.hessian(x_square)(np.array([1., 2.]))"
   ]
  },
  {
   "cell_type": "code",
   "execution_count": 37,
   "metadata": {},
   "outputs": [
    {
     "ename": "TypeError",
     "evalue": "grad_np_sum() got an unexpected keyword argument 'out'",
     "output_type": "error",
     "traceback": [
      "\u001b[1;31m---------------------------------------------------------------------------\u001b[0m",
      "\u001b[1;31mTypeError\u001b[0m                                 Traceback (most recent call last)",
      "Cell \u001b[1;32mIn[37], line 4\u001b[0m\n\u001b[0;32m      1\u001b[0m \u001b[39mdef\u001b[39;00m \u001b[39mx_square\u001b[39m(x):\n\u001b[0;32m      2\u001b[0m     \u001b[39mreturn\u001b[39;00m np\u001b[39m.\u001b[39msum(x)\n\u001b[1;32m----> 4\u001b[0m hessian(x_square)(np\u001b[39m.\u001b[39;49marray([\u001b[39m1\u001b[39;49m, \u001b[39m2\u001b[39;49m, \u001b[39m3\u001b[39;49m]))\n",
      "File \u001b[1;32mc:\\Users\\33646\\Desktop\\ENSAE\\Stat_Bayesienne\\Projet\\venv\\lib\\site-packages\\autograd\\wrap_util.py:20\u001b[0m, in \u001b[0;36munary_to_nary.<locals>.nary_operator.<locals>.nary_f\u001b[1;34m(*args, **kwargs)\u001b[0m\n\u001b[0;32m     18\u001b[0m \u001b[39melse\u001b[39;00m:\n\u001b[0;32m     19\u001b[0m     x \u001b[39m=\u001b[39m \u001b[39mtuple\u001b[39m(args[i] \u001b[39mfor\u001b[39;00m i \u001b[39min\u001b[39;00m argnum)\n\u001b[1;32m---> 20\u001b[0m \u001b[39mreturn\u001b[39;00m unary_operator(unary_f, x, \u001b[39m*\u001b[39mnary_op_args, \u001b[39m*\u001b[39m\u001b[39m*\u001b[39mnary_op_kwargs)\n",
      "File \u001b[1;32mc:\\Users\\33646\\Desktop\\ENSAE\\Stat_Bayesienne\\Projet\\venv\\lib\\site-packages\\autograd\\differential_operators.py:81\u001b[0m, in \u001b[0;36mhessian\u001b[1;34m(fun, x)\u001b[0m\n\u001b[0;32m     78\u001b[0m \u001b[39m@unary_to_nary\u001b[39m\n\u001b[0;32m     79\u001b[0m \u001b[39mdef\u001b[39;00m \u001b[39mhessian\u001b[39m(fun, x):\n\u001b[0;32m     80\u001b[0m     \u001b[39m\"\u001b[39m\u001b[39mReturns a function that computes the exact Hessian.\u001b[39m\u001b[39m\"\u001b[39m\n\u001b[1;32m---> 81\u001b[0m     \u001b[39mreturn\u001b[39;00m jacobian(jacobian(fun))(x)\n",
      "File \u001b[1;32mc:\\Users\\33646\\Desktop\\ENSAE\\Stat_Bayesienne\\Projet\\venv\\lib\\site-packages\\autograd\\wrap_util.py:20\u001b[0m, in \u001b[0;36munary_to_nary.<locals>.nary_operator.<locals>.nary_f\u001b[1;34m(*args, **kwargs)\u001b[0m\n\u001b[0;32m     18\u001b[0m \u001b[39melse\u001b[39;00m:\n\u001b[0;32m     19\u001b[0m     x \u001b[39m=\u001b[39m \u001b[39mtuple\u001b[39m(args[i] \u001b[39mfor\u001b[39;00m i \u001b[39min\u001b[39;00m argnum)\n\u001b[1;32m---> 20\u001b[0m \u001b[39mreturn\u001b[39;00m unary_operator(unary_f, x, \u001b[39m*\u001b[39mnary_op_args, \u001b[39m*\u001b[39m\u001b[39m*\u001b[39mnary_op_kwargs)\n",
      "File \u001b[1;32mc:\\Users\\33646\\Desktop\\ENSAE\\Stat_Bayesienne\\Projet\\venv\\lib\\site-packages\\autograd\\differential_operators.py:60\u001b[0m, in \u001b[0;36mjacobian\u001b[1;34m(fun, x)\u001b[0m\n\u001b[0;32m     50\u001b[0m \u001b[39m@unary_to_nary\u001b[39m\n\u001b[0;32m     51\u001b[0m \u001b[39mdef\u001b[39;00m \u001b[39mjacobian\u001b[39m(fun, x):\n\u001b[0;32m     52\u001b[0m \u001b[39m    \u001b[39m\u001b[39m\"\"\"\u001b[39;00m\n\u001b[0;32m     53\u001b[0m \u001b[39m    Returns a function which computes the Jacobian of `fun` with respect to\u001b[39;00m\n\u001b[0;32m     54\u001b[0m \u001b[39m    positional argument number `argnum`, which must be a scalar or array. Unlike\u001b[39;00m\n\u001b[1;32m   (...)\u001b[0m\n\u001b[0;32m     58\u001b[0m \u001b[39m    (out1, out2, ...) then the Jacobian has shape (out1, out2, ..., in1, in2, ...).\u001b[39;00m\n\u001b[0;32m     59\u001b[0m \u001b[39m    \"\"\"\u001b[39;00m\n\u001b[1;32m---> 60\u001b[0m     vjp, ans \u001b[39m=\u001b[39m _make_vjp(fun, x)\n\u001b[0;32m     61\u001b[0m     ans_vspace \u001b[39m=\u001b[39m vspace(ans)\n\u001b[0;32m     62\u001b[0m     jacobian_shape \u001b[39m=\u001b[39m ans_vspace\u001b[39m.\u001b[39mshape \u001b[39m+\u001b[39m vspace(x)\u001b[39m.\u001b[39mshape\n",
      "File \u001b[1;32mc:\\Users\\33646\\Desktop\\ENSAE\\Stat_Bayesienne\\Projet\\venv\\lib\\site-packages\\autograd\\core.py:10\u001b[0m, in \u001b[0;36mmake_vjp\u001b[1;34m(fun, x)\u001b[0m\n\u001b[0;32m      8\u001b[0m \u001b[39mdef\u001b[39;00m \u001b[39mmake_vjp\u001b[39m(fun, x):\n\u001b[0;32m      9\u001b[0m     start_node \u001b[39m=\u001b[39m VJPNode\u001b[39m.\u001b[39mnew_root()\n\u001b[1;32m---> 10\u001b[0m     end_value, end_node \u001b[39m=\u001b[39m  trace(start_node, fun, x)\n\u001b[0;32m     11\u001b[0m     \u001b[39mif\u001b[39;00m end_node \u001b[39mis\u001b[39;00m \u001b[39mNone\u001b[39;00m:\n\u001b[0;32m     12\u001b[0m         \u001b[39mdef\u001b[39;00m \u001b[39mvjp\u001b[39m(g): \u001b[39mreturn\u001b[39;00m vspace(x)\u001b[39m.\u001b[39mzeros()\n",
      "File \u001b[1;32mc:\\Users\\33646\\Desktop\\ENSAE\\Stat_Bayesienne\\Projet\\venv\\lib\\site-packages\\autograd\\tracer.py:10\u001b[0m, in \u001b[0;36mtrace\u001b[1;34m(start_node, fun, x)\u001b[0m\n\u001b[0;32m      8\u001b[0m \u001b[39mwith\u001b[39;00m trace_stack\u001b[39m.\u001b[39mnew_trace() \u001b[39mas\u001b[39;00m t:\n\u001b[0;32m      9\u001b[0m     start_box \u001b[39m=\u001b[39m new_box(x, t, start_node)\n\u001b[1;32m---> 10\u001b[0m     end_box \u001b[39m=\u001b[39m fun(start_box)\n\u001b[0;32m     11\u001b[0m     \u001b[39mif\u001b[39;00m isbox(end_box) \u001b[39mand\u001b[39;00m end_box\u001b[39m.\u001b[39m_trace \u001b[39m==\u001b[39m start_box\u001b[39m.\u001b[39m_trace:\n\u001b[0;32m     12\u001b[0m         \u001b[39mreturn\u001b[39;00m end_box\u001b[39m.\u001b[39m_value, end_box\u001b[39m.\u001b[39m_node\n",
      "File \u001b[1;32mc:\\Users\\33646\\Desktop\\ENSAE\\Stat_Bayesienne\\Projet\\venv\\lib\\site-packages\\autograd\\wrap_util.py:15\u001b[0m, in \u001b[0;36munary_to_nary.<locals>.nary_operator.<locals>.nary_f.<locals>.unary_f\u001b[1;34m(x)\u001b[0m\n\u001b[0;32m     13\u001b[0m \u001b[39melse\u001b[39;00m:\n\u001b[0;32m     14\u001b[0m     subargs \u001b[39m=\u001b[39m subvals(args, \u001b[39mzip\u001b[39m(argnum, x))\n\u001b[1;32m---> 15\u001b[0m \u001b[39mreturn\u001b[39;00m fun(\u001b[39m*\u001b[39msubargs, \u001b[39m*\u001b[39m\u001b[39m*\u001b[39mkwargs)\n",
      "File \u001b[1;32mc:\\Users\\33646\\Desktop\\ENSAE\\Stat_Bayesienne\\Projet\\venv\\lib\\site-packages\\autograd\\wrap_util.py:20\u001b[0m, in \u001b[0;36munary_to_nary.<locals>.nary_operator.<locals>.nary_f\u001b[1;34m(*args, **kwargs)\u001b[0m\n\u001b[0;32m     18\u001b[0m \u001b[39melse\u001b[39;00m:\n\u001b[0;32m     19\u001b[0m     x \u001b[39m=\u001b[39m \u001b[39mtuple\u001b[39m(args[i] \u001b[39mfor\u001b[39;00m i \u001b[39min\u001b[39;00m argnum)\n\u001b[1;32m---> 20\u001b[0m \u001b[39mreturn\u001b[39;00m unary_operator(unary_f, x, \u001b[39m*\u001b[39mnary_op_args, \u001b[39m*\u001b[39m\u001b[39m*\u001b[39mnary_op_kwargs)\n",
      "File \u001b[1;32mc:\\Users\\33646\\Desktop\\ENSAE\\Stat_Bayesienne\\Projet\\venv\\lib\\site-packages\\autograd\\differential_operators.py:60\u001b[0m, in \u001b[0;36mjacobian\u001b[1;34m(fun, x)\u001b[0m\n\u001b[0;32m     50\u001b[0m \u001b[39m@unary_to_nary\u001b[39m\n\u001b[0;32m     51\u001b[0m \u001b[39mdef\u001b[39;00m \u001b[39mjacobian\u001b[39m(fun, x):\n\u001b[0;32m     52\u001b[0m \u001b[39m    \u001b[39m\u001b[39m\"\"\"\u001b[39;00m\n\u001b[0;32m     53\u001b[0m \u001b[39m    Returns a function which computes the Jacobian of `fun` with respect to\u001b[39;00m\n\u001b[0;32m     54\u001b[0m \u001b[39m    positional argument number `argnum`, which must be a scalar or array. Unlike\u001b[39;00m\n\u001b[1;32m   (...)\u001b[0m\n\u001b[0;32m     58\u001b[0m \u001b[39m    (out1, out2, ...) then the Jacobian has shape (out1, out2, ..., in1, in2, ...).\u001b[39;00m\n\u001b[0;32m     59\u001b[0m \u001b[39m    \"\"\"\u001b[39;00m\n\u001b[1;32m---> 60\u001b[0m     vjp, ans \u001b[39m=\u001b[39m _make_vjp(fun, x)\n\u001b[0;32m     61\u001b[0m     ans_vspace \u001b[39m=\u001b[39m vspace(ans)\n\u001b[0;32m     62\u001b[0m     jacobian_shape \u001b[39m=\u001b[39m ans_vspace\u001b[39m.\u001b[39mshape \u001b[39m+\u001b[39m vspace(x)\u001b[39m.\u001b[39mshape\n",
      "File \u001b[1;32mc:\\Users\\33646\\Desktop\\ENSAE\\Stat_Bayesienne\\Projet\\venv\\lib\\site-packages\\autograd\\core.py:10\u001b[0m, in \u001b[0;36mmake_vjp\u001b[1;34m(fun, x)\u001b[0m\n\u001b[0;32m      8\u001b[0m \u001b[39mdef\u001b[39;00m \u001b[39mmake_vjp\u001b[39m(fun, x):\n\u001b[0;32m      9\u001b[0m     start_node \u001b[39m=\u001b[39m VJPNode\u001b[39m.\u001b[39mnew_root()\n\u001b[1;32m---> 10\u001b[0m     end_value, end_node \u001b[39m=\u001b[39m  trace(start_node, fun, x)\n\u001b[0;32m     11\u001b[0m     \u001b[39mif\u001b[39;00m end_node \u001b[39mis\u001b[39;00m \u001b[39mNone\u001b[39;00m:\n\u001b[0;32m     12\u001b[0m         \u001b[39mdef\u001b[39;00m \u001b[39mvjp\u001b[39m(g): \u001b[39mreturn\u001b[39;00m vspace(x)\u001b[39m.\u001b[39mzeros()\n",
      "File \u001b[1;32mc:\\Users\\33646\\Desktop\\ENSAE\\Stat_Bayesienne\\Projet\\venv\\lib\\site-packages\\autograd\\tracer.py:10\u001b[0m, in \u001b[0;36mtrace\u001b[1;34m(start_node, fun, x)\u001b[0m\n\u001b[0;32m      8\u001b[0m \u001b[39mwith\u001b[39;00m trace_stack\u001b[39m.\u001b[39mnew_trace() \u001b[39mas\u001b[39;00m t:\n\u001b[0;32m      9\u001b[0m     start_box \u001b[39m=\u001b[39m new_box(x, t, start_node)\n\u001b[1;32m---> 10\u001b[0m     end_box \u001b[39m=\u001b[39m fun(start_box)\n\u001b[0;32m     11\u001b[0m     \u001b[39mif\u001b[39;00m isbox(end_box) \u001b[39mand\u001b[39;00m end_box\u001b[39m.\u001b[39m_trace \u001b[39m==\u001b[39m start_box\u001b[39m.\u001b[39m_trace:\n\u001b[0;32m     12\u001b[0m         \u001b[39mreturn\u001b[39;00m end_box\u001b[39m.\u001b[39m_value, end_box\u001b[39m.\u001b[39m_node\n",
      "File \u001b[1;32mc:\\Users\\33646\\Desktop\\ENSAE\\Stat_Bayesienne\\Projet\\venv\\lib\\site-packages\\autograd\\wrap_util.py:15\u001b[0m, in \u001b[0;36munary_to_nary.<locals>.nary_operator.<locals>.nary_f.<locals>.unary_f\u001b[1;34m(x)\u001b[0m\n\u001b[0;32m     13\u001b[0m \u001b[39melse\u001b[39;00m:\n\u001b[0;32m     14\u001b[0m     subargs \u001b[39m=\u001b[39m subvals(args, \u001b[39mzip\u001b[39m(argnum, x))\n\u001b[1;32m---> 15\u001b[0m \u001b[39mreturn\u001b[39;00m fun(\u001b[39m*\u001b[39msubargs, \u001b[39m*\u001b[39m\u001b[39m*\u001b[39mkwargs)\n",
      "File \u001b[1;32mc:\\Users\\33646\\Desktop\\ENSAE\\Stat_Bayesienne\\Projet\\venv\\lib\\site-packages\\autograd\\wrap_util.py:15\u001b[0m, in \u001b[0;36munary_to_nary.<locals>.nary_operator.<locals>.nary_f.<locals>.unary_f\u001b[1;34m(x)\u001b[0m\n\u001b[0;32m     13\u001b[0m \u001b[39melse\u001b[39;00m:\n\u001b[0;32m     14\u001b[0m     subargs \u001b[39m=\u001b[39m subvals(args, \u001b[39mzip\u001b[39m(argnum, x))\n\u001b[1;32m---> 15\u001b[0m \u001b[39mreturn\u001b[39;00m fun(\u001b[39m*\u001b[39msubargs, \u001b[39m*\u001b[39m\u001b[39m*\u001b[39mkwargs)\n",
      "Cell \u001b[1;32mIn[37], line 2\u001b[0m, in \u001b[0;36mx_square\u001b[1;34m(x)\u001b[0m\n\u001b[0;32m      1\u001b[0m \u001b[39mdef\u001b[39;00m \u001b[39mx_square\u001b[39m(x):\n\u001b[1;32m----> 2\u001b[0m     \u001b[39mreturn\u001b[39;00m np\u001b[39m.\u001b[39;49msum(x)\n",
      "File \u001b[1;32m<__array_function__ internals>:200\u001b[0m, in \u001b[0;36msum\u001b[1;34m(*args, **kwargs)\u001b[0m\n",
      "File \u001b[1;32mc:\\Users\\33646\\Desktop\\ENSAE\\Stat_Bayesienne\\Projet\\venv\\lib\\site-packages\\numpy\\core\\fromnumeric.py:2324\u001b[0m, in \u001b[0;36msum\u001b[1;34m(a, axis, dtype, out, keepdims, initial, where)\u001b[0m\n\u001b[0;32m   2321\u001b[0m         \u001b[39mreturn\u001b[39;00m out\n\u001b[0;32m   2322\u001b[0m     \u001b[39mreturn\u001b[39;00m res\n\u001b[1;32m-> 2324\u001b[0m \u001b[39mreturn\u001b[39;00m _wrapreduction(a, np\u001b[39m.\u001b[39;49madd, \u001b[39m'\u001b[39;49m\u001b[39msum\u001b[39;49m\u001b[39m'\u001b[39;49m, axis, dtype, out, keepdims\u001b[39m=\u001b[39;49mkeepdims,\n\u001b[0;32m   2325\u001b[0m                       initial\u001b[39m=\u001b[39;49minitial, where\u001b[39m=\u001b[39;49mwhere)\n",
      "File \u001b[1;32mc:\\Users\\33646\\Desktop\\ENSAE\\Stat_Bayesienne\\Projet\\venv\\lib\\site-packages\\numpy\\core\\fromnumeric.py:84\u001b[0m, in \u001b[0;36m_wrapreduction\u001b[1;34m(obj, ufunc, method, axis, dtype, out, **kwargs)\u001b[0m\n\u001b[0;32m     82\u001b[0m             \u001b[39mreturn\u001b[39;00m reduction(axis\u001b[39m=\u001b[39maxis, dtype\u001b[39m=\u001b[39mdtype, out\u001b[39m=\u001b[39mout, \u001b[39m*\u001b[39m\u001b[39m*\u001b[39mpasskwargs)\n\u001b[0;32m     83\u001b[0m         \u001b[39melse\u001b[39;00m:\n\u001b[1;32m---> 84\u001b[0m             \u001b[39mreturn\u001b[39;00m reduction(axis\u001b[39m=\u001b[39maxis, out\u001b[39m=\u001b[39mout, \u001b[39m*\u001b[39m\u001b[39m*\u001b[39mpasskwargs)\n\u001b[0;32m     86\u001b[0m \u001b[39mreturn\u001b[39;00m ufunc\u001b[39m.\u001b[39mreduce(obj, axis, dtype, out, \u001b[39m*\u001b[39m\u001b[39m*\u001b[39mpasskwargs)\n",
      "File \u001b[1;32mc:\\Users\\33646\\Desktop\\ENSAE\\Stat_Bayesienne\\Projet\\venv\\lib\\site-packages\\autograd\\tracer.py:44\u001b[0m, in \u001b[0;36mprimitive.<locals>.f_wrapped\u001b[1;34m(*args, **kwargs)\u001b[0m\n\u001b[0;32m     42\u001b[0m parents \u001b[39m=\u001b[39m \u001b[39mtuple\u001b[39m(box\u001b[39m.\u001b[39m_node \u001b[39mfor\u001b[39;00m _     , box \u001b[39min\u001b[39;00m boxed_args)\n\u001b[0;32m     43\u001b[0m argnums \u001b[39m=\u001b[39m \u001b[39mtuple\u001b[39m(argnum    \u001b[39mfor\u001b[39;00m argnum, _   \u001b[39min\u001b[39;00m boxed_args)\n\u001b[1;32m---> 44\u001b[0m ans \u001b[39m=\u001b[39m f_wrapped(\u001b[39m*\u001b[39margvals, \u001b[39m*\u001b[39m\u001b[39m*\u001b[39mkwargs)\n\u001b[0;32m     45\u001b[0m node \u001b[39m=\u001b[39m node_constructor(ans, f_wrapped, argvals, kwargs, argnums, parents)\n\u001b[0;32m     46\u001b[0m \u001b[39mreturn\u001b[39;00m new_box(ans, trace, node)\n",
      "File \u001b[1;32mc:\\Users\\33646\\Desktop\\ENSAE\\Stat_Bayesienne\\Projet\\venv\\lib\\site-packages\\autograd\\tracer.py:45\u001b[0m, in \u001b[0;36mprimitive.<locals>.f_wrapped\u001b[1;34m(*args, **kwargs)\u001b[0m\n\u001b[0;32m     43\u001b[0m     argnums \u001b[39m=\u001b[39m \u001b[39mtuple\u001b[39m(argnum    \u001b[39mfor\u001b[39;00m argnum, _   \u001b[39min\u001b[39;00m boxed_args)\n\u001b[0;32m     44\u001b[0m     ans \u001b[39m=\u001b[39m f_wrapped(\u001b[39m*\u001b[39margvals, \u001b[39m*\u001b[39m\u001b[39m*\u001b[39mkwargs)\n\u001b[1;32m---> 45\u001b[0m     node \u001b[39m=\u001b[39m node_constructor(ans, f_wrapped, argvals, kwargs, argnums, parents)\n\u001b[0;32m     46\u001b[0m     \u001b[39mreturn\u001b[39;00m new_box(ans, trace, node)\n\u001b[0;32m     47\u001b[0m \u001b[39melse\u001b[39;00m:\n",
      "File \u001b[1;32mc:\\Users\\33646\\Desktop\\ENSAE\\Stat_Bayesienne\\Projet\\venv\\lib\\site-packages\\autograd\\core.py:36\u001b[0m, in \u001b[0;36mVJPNode.__init__\u001b[1;34m(self, value, fun, args, kwargs, parent_argnums, parents)\u001b[0m\n\u001b[0;32m     33\u001b[0m     fun_name \u001b[39m=\u001b[39m \u001b[39mgetattr\u001b[39m(fun, \u001b[39m'\u001b[39m\u001b[39m__name__\u001b[39m\u001b[39m'\u001b[39m, fun)\n\u001b[0;32m     34\u001b[0m     \u001b[39mraise\u001b[39;00m \u001b[39mNotImplementedError\u001b[39;00m(\u001b[39m\"\u001b[39m\u001b[39mVJP of \u001b[39m\u001b[39m{}\u001b[39;00m\u001b[39m wrt argnums \u001b[39m\u001b[39m{}\u001b[39;00m\u001b[39m not defined\u001b[39m\u001b[39m\"\u001b[39m\n\u001b[0;32m     35\u001b[0m                               \u001b[39m.\u001b[39mformat(fun_name, parent_argnums))\n\u001b[1;32m---> 36\u001b[0m \u001b[39mself\u001b[39m\u001b[39m.\u001b[39mvjp \u001b[39m=\u001b[39m vjpmaker(parent_argnums, value, args, kwargs)\n",
      "File \u001b[1;32mc:\\Users\\33646\\Desktop\\ENSAE\\Stat_Bayesienne\\Projet\\venv\\lib\\site-packages\\autograd\\core.py:66\u001b[0m, in \u001b[0;36mdefvjp.<locals>.vjp_argnums\u001b[1;34m(argnums, ans, args, kwargs)\u001b[0m\n\u001b[0;32m     63\u001b[0m     \u001b[39mexcept\u001b[39;00m \u001b[39mKeyError\u001b[39;00m:\n\u001b[0;32m     64\u001b[0m         \u001b[39mraise\u001b[39;00m \u001b[39mNotImplementedError\u001b[39;00m(\n\u001b[0;32m     65\u001b[0m             \u001b[39m\"\u001b[39m\u001b[39mVJP of \u001b[39m\u001b[39m{}\u001b[39;00m\u001b[39m wrt argnum 0 not defined\u001b[39m\u001b[39m\"\u001b[39m\u001b[39m.\u001b[39mformat(fun\u001b[39m.\u001b[39m\u001b[39m__name__\u001b[39m))\n\u001b[1;32m---> 66\u001b[0m     vjp \u001b[39m=\u001b[39m vjpfun(ans, \u001b[39m*\u001b[39margs, \u001b[39m*\u001b[39m\u001b[39m*\u001b[39mkwargs)\n\u001b[0;32m     67\u001b[0m     \u001b[39mreturn\u001b[39;00m \u001b[39mlambda\u001b[39;00m g: (vjp(g),)\n\u001b[0;32m     68\u001b[0m \u001b[39melif\u001b[39;00m L \u001b[39m==\u001b[39m \u001b[39m2\u001b[39m:\n",
      "\u001b[1;31mTypeError\u001b[0m: grad_np_sum() got an unexpected keyword argument 'out'"
     ]
    }
   ],
   "source": []
  }
 ],
 "metadata": {
  "kernelspec": {
   "display_name": "venv",
   "language": "python",
   "name": "python3"
  },
  "language_info": {
   "codemirror_mode": {
    "name": "ipython",
    "version": 3
   },
   "file_extension": ".py",
   "mimetype": "text/x-python",
   "name": "python",
   "nbconvert_exporter": "python",
   "pygments_lexer": "ipython3",
   "version": "3.9.13"
  },
  "orig_nbformat": 4,
  "vscode": {
   "interpreter": {
    "hash": "737dc7a53ad0f66992e7d8e25dc907e77810167821e3c90ca70c5c5ee7cee45a"
   }
  }
 },
 "nbformat": 4,
 "nbformat_minor": 2
}
