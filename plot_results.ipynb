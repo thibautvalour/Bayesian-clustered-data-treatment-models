{
 "cells": [
  {
   "cell_type": "code",
   "execution_count": null,
   "metadata": {},
   "outputs": [],
   "source": [
    "import matplotlib.pyplot as plt\n",
    "import numpy as np"
   ]
  },
  {
   "cell_type": "code",
   "execution_count": null,
   "metadata": {},
   "outputs": [],
   "source": [
    "results = np.load('results.npy', allow_pickle=True).item()\n",
    "beta_0_list = results['beta_0']\n",
    "beta_1_list = results['beta_1']\n",
    "sigma_list = results['sigma']\n",
    "gamma_list = results['gamma']"
   ]
  }
 ],
 "metadata": {
  "kernelspec": {
   "display_name": "Python 3",
   "language": "python",
   "name": "python3"
  },
  "language_info": {
   "name": "python",
   "version": "3.9.13 (tags/v3.9.13:6de2ca5, May 17 2022, 16:36:42) [MSC v.1929 64 bit (AMD64)]"
  },
  "orig_nbformat": 4,
  "vscode": {
   "interpreter": {
    "hash": "58af2f803b627e8db69abba8b9b7e59cdbeef39e99f30d639eca424b4ec7e992"
   }
  }
 },
 "nbformat": 4,
 "nbformat_minor": 2
}
