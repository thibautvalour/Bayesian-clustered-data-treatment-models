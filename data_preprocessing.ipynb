{
 "cells": [
  {
   "cell_type": "code",
   "execution_count": 1,
   "metadata": {},
   "outputs": [],
   "source": [
    "import pandas as pd \n",
    "import numpy as np\n",
    "import os"
   ]
  },
  {
   "cell_type": "code",
   "execution_count": 7,
   "metadata": {},
   "outputs": [
    {
     "name": "stdout",
     "output_type": "stream",
     "text": [
      "WARNING *** OLE2 inconsistency: SSCS size is 0 but SSAT size is non-zero\n"
     ]
    }
   ],
   "source": [
    "# Read the xls file \n",
    "df = pd.read_excel('..\\data\\MDB-INSEE-V2.xls')\n",
    "df_vote = pd.read_csv('..\\data\\data_pol.csv')"
   ]
  },
  {
   "cell_type": "code",
   "execution_count": 11,
   "metadata": {},
   "outputs": [],
   "source": [
    "df = df.merge(df_vote, left_on='CODGEO', right_on='code_commune', how='inner')"
   ]
  },
  {
   "cell_type": "code",
   "execution_count": 12,
   "metadata": {},
   "outputs": [],
   "source": [
    "columns_to_keep = ['CODGEO', 'Population', 'Evolution Pop %', 'Nb Majeurs', 'Nb Entreprises Secteur Services', 'Nb Entreprises Secteur Commerce',\n",
    "                   'Nb Entreprises Secteur Construction', 'Nb Entreprises Secteur Industrie', 'Nb Etudiants',\n",
    "                   'Dep Moyenne Salaires Horaires', 'Nb Actifs Salariés', 'Dep Moyenne Salaires Cadre Horaires', 'Nb Actifs Non Salariés', \n",
    "                   'Taux étudiants', 'Taux Propriété', 'Moyenne Revnus fiscaux', 'PIB Régionnal', 'treatment']\n",
    "\n",
    "df = df[columns_to_keep]"
   ]
  },
  {
   "cell_type": "code",
   "execution_count": 13,
   "metadata": {},
   "outputs": [],
   "source": [
    "r_label = 'Nb Etudiants'\n",
    "s_label = 'treatment'\n",
    "x_label = ['Population', 'Nb Entreprises Secteur Commerce',\n",
    "           'Nb Entreprises Secteur Industrie', 'Taux Propriété'] \n",
    "\n",
    "w_label = [r_label] + x_label\n",
    "y_label =  'Dep Moyenne Salaires Cadre Horaires'"
   ]
  },
  {
   "cell_type": "code",
   "execution_count": 14,
   "metadata": {},
   "outputs": [
    {
     "name": "stdout",
     "output_type": "stream",
     "text": [
      "(1644,) (1644, 4) (1644,) (1644, 5)\n",
      "2 1644 1644\n"
     ]
    }
   ],
   "source": [
    "s = np.array(df[s_label].astype(int))\n",
    "w = np.array(df[w_label])\n",
    "x = np.array(df[x_label])\n",
    "y = np.array(df[y_label])\n",
    "\n",
    "\n",
    "z = [[], []]\n",
    "for i in range(len(s)):\n",
    "    z[int(s[i])].append(y[i])\n",
    "    z[1-int(s[i])].append(np.nan)\n",
    "\n",
    "print(s.shape, x.shape, y.shape, w.shape)\n",
    "print(len(z), len(z[0]), len(z[1]))"
   ]
  },
  {
   "cell_type": "code",
   "execution_count": 16,
   "metadata": {},
   "outputs": [],
   "source": [
    "data_dict = {'s': s, 'w': w, 'x': x, 'y': y, 'z': z}"
   ]
  },
  {
   "cell_type": "code",
   "execution_count": 17,
   "metadata": {},
   "outputs": [],
   "source": [
    "# save the data\n",
    "np.save('../data/data_dict.npy', data_dict)"
   ]
  },
  {
   "cell_type": "code",
   "execution_count": 18,
   "metadata": {},
   "outputs": [
    {
     "data": {
      "text/plain": [
       "20.747333333333334"
      ]
     },
     "execution_count": 18,
     "metadata": {},
     "output_type": "execute_result"
    }
   ],
   "source": [
    "(x[0][0]*10**-3 + x[0][1] * 10**-2 + x[0][2] * 10**-1 + x[0][3] * 10**0)/3"
   ]
  },
  {
   "cell_type": "code",
   "execution_count": null,
   "metadata": {},
   "outputs": [],
   "source": []
  }
 ],
 "metadata": {
  "kernelspec": {
   "display_name": "Python 3",
   "language": "python",
   "name": "python3"
  },
  "language_info": {
   "codemirror_mode": {
    "name": "ipython",
    "version": 3
   },
   "file_extension": ".py",
   "mimetype": "text/x-python",
   "name": "python",
   "nbconvert_exporter": "python",
   "pygments_lexer": "ipython3",
   "version": "3.9.13"
  },
  "orig_nbformat": 4,
  "vscode": {
   "interpreter": {
    "hash": "58af2f803b627e8db69abba8b9b7e59cdbeef39e99f30d639eca424b4ec7e992"
   }
  }
 },
 "nbformat": 4,
 "nbformat_minor": 2
}
