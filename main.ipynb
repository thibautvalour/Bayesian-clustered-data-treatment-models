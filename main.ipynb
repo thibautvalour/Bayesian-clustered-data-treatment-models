{
 "cells": [
  {
   "cell_type": "code",
   "execution_count": 1,
   "metadata": {},
   "outputs": [],
   "source": [
    "import numpy as np\n",
    "import pandas as pd\n",
    "import matplotlib.pyplot as plt\n",
    "import seaborn as sns\n",
    "\n",
    "import scipy.stats as stats\n",
    "from scipy.optimize import minimize\n",
    "\n",
    "import autograd.numpy as auto_np\n",
    "from autograd import hessian\n",
    "\n",
    "from utils import is_positive_definite, flat_sigma_to_sigma_matrix, sigma_matrix_to_flat_sigma\n",
    "from init import init"
   ]
  },
  {
   "cell_type": "code",
   "execution_count": 10,
   "metadata": {},
   "outputs": [],
   "source": [
    "beta, sigma_flat, s, w, x, y, z, g_0, G_0, beta_0_init, B_0 = init()\n",
    "gamma, beta_0, beta_1 = beta[:5], beta[5:9], beta[9:]"
   ]
  },
  {
   "cell_type": "code",
   "execution_count": 3,
   "metadata": {},
   "outputs": [],
   "source": [
    "def likelyhood_ys(w, x, s, z, gamma, beta_0, beta_1, sigma):\n",
    "    \n",
    "    prod = 1\n",
    "    for i in range(len(z)):\n",
    "        treatment = s[i]\n",
    "        if treatment == 0:\n",
    "            prod *= (stats.norm.pdf(z[0][i],  np.dot(x[i],beta_0), sigma[1][1]**2) *\n",
    "                     stats.norm.cdf((np.dot(-w[i],gamma) - (sigma[0][1]/sigma[1][1]) * \n",
    "                    (z[0][i] - np.dot(x[i], beta_0)))/(1-sigma[0][1]**2/sigma[1][1])**0.5))\n",
    "        else:\n",
    "            prod *= (stats.norm.pdf(z[1][i],  np.dot(x[i],beta_1), sigma[2][2]**2) *\n",
    "                     stats.norm.cdf((np.dot(-w[i],gamma) - (sigma[0][2]/sigma[2][2]) * \n",
    "                    (z[1][i] - np.dot(x[i], beta_1)))/(1-sigma[0][2]**2/sigma[2][2])**0.5))\n",
    "    return prod\n",
    "\n",
    "def g_sigma(sigma, z, w,  x, beta_0, beta_1, gamma, g_0, G_0):\n",
    "\n",
    "    first_term = likelyhood_ys(w, x, s, z, gamma, beta_0, beta_1, sigma) # likelihood of ys given sigma\n",
    "    second_term = stats.multivariate_normal.pdf(sigma, g_0, G_0) # density of sigma given g_0, G_0\n",
    "    third_term = is_positive_definite(sigma) \n",
    "\n",
    "    return first_term * second_term * third_term\n",
    "\n",
    "def q_sigma(sigma, z0, z1,w,  x0, x1, beta_0, beta_1, gamma, g_0, G_0, density=False):\n",
    "\n",
    "    def sub_log_g_sigma(sigma):\n",
    "        return np.log(g_sigma(sigma, z, w,  x, gamma, beta_0, beta_1, g_0, G_0))\n",
    "\n",
    "    H = hessian(sub_log_g_sigma)(sigma)\n",
    "    V = np.linalg.inv(-H)\n",
    "\n",
    "    # Compute mu the mode of sub_log_g_sigma\n",
    "    result = minimize(-sub_log_g_sigma, x0=sigma)\n",
    "    mode = result.x[0]\n",
    "\n",
    "    if density:\n",
    "        # return density of sigma given mode and V\n",
    "        return stats.multivariate_t.pdf(sigma, mode, V)\n",
    "    else:\n",
    "        # sample from multivariate t density\n",
    "        return stats.multivariate_t.rvs(loc=mode, shape=V)\n",
    "\n",
    "def sample_sigma(old_sigma, z0, z1,w,  x0, x1, beta_0, beta_1, gamma, g_0, G_0):\n",
    "    old_likelihood = (g_sigma(old_sigma, z0, z1,w,  x0, x1, beta_0, beta_1, gamma, g_0, G_0)*\n",
    "                      q_sigma(old_sigma, z0, z1,w,  x0, x1, beta_0, beta_1, gamma, g_0, G_0, density=True))\n",
    "\n",
    "    sigma = q_sigma(old_sigma, z0, z1,w,  x0, x1, beta_0, beta_1, gamma, g_0, G_0, density=False)\n",
    "\n",
    "    new_likelihood = (g_sigma(sigma, z0, z1,w,  x0, x1, beta_0, beta_1, gamma, g_0, G_0)*\n",
    "                    q_sigma(sigma, z0, z1,w,  x0, x1, beta_0, beta_1, gamma, g_0, G_0, density=True))\n",
    "    acceptance_ratio = new_likelihood / old_likelihood\n",
    "    if acceptance_ratio > np.random.uniform():\n",
    "        return sigma\n",
    "    else:\n",
    "        return old_sigma\n",
    "\n",
    "    \n",
    "def sample_zi_star(w, x, s, z, gamma, beta_0, beta_1, sigma): #zi_star = si_star, z_i(1 - si)\n",
    "    si_star = np.zeros(len(s))\n",
    "    for i in range(len(s)):\n",
    "        treatment = s[i]\n",
    "        if treatment == 0:\n",
    "            si_star[i] = stats.truncnorm.rvs(a=-np.inf,b=0, loc=np.dot(w[i], gamma), scale=1)\n",
    "            z[1][i] = stats.norm.rvs(loc=np.dot(x[i], beta_1), scale=sigma[2][2]**2)\n",
    "        else:\n",
    "            si_star[i] = stats.truncnorm.rvs(a=0,b=np.inf, loc=np.dot(w[i], gamma), scale=1)\n",
    "            z[0][i] = stats.norm.rvs(loc=np.dot(x[i], beta_0), scale=sigma[1][1]**2)\n",
    "    return si_star, z\n",
    "\n",
    "def sample_beta(w, x, s, z, gamma, beta_0, beta_1, sigma, B_0, beta_0_init, s_star):\n",
    "    nouveau_z_a_remplacer = np.zeros(len(s), 3)\n",
    "    nouveau_z_a_remplacer[:,0], nouveau_z_a_remplacer[:,1], nouveau_z_a_remplacer[:,2] = s_star, z[0], z[1]\n",
    "    grand_x_a_remplacer = np.zeros(len(s), 3)\n",
    "    grand_x_a_remplacer[:,0], grand_x_a_remplacer[:,1], grand_x_a_remplacer[:,2] = s, x[:,0], x[:,1] # TODO : à refaire\n",
    "\n",
    "    sigma_inv = np.linalg.inv(sigma)\n",
    "    B_0_inv = np.linalg.inv(B_0)\n",
    "    B = np.linalg.inv(B_0_inv + np.sum([np.dot(np.dot(x[i], sigma_inv), x[i]) for i in range(len(s))]))\n",
    "    beta_hat = np.dot(B, np.dot(B_0_inv, beta_0_init) +\n",
    "                      np.sum([np.dot(np.dot(x[i], sigma_inv), nouveau_z_a_remplacer[i]) for i in range(len(s))]))\n",
    "\n",
    "    new_beta = stats.multivariate_normal.rvs(loc=beta_hat, shape=B)\n",
    "    return new_beta"
   ]
  },
  {
   "cell_type": "code",
   "execution_count": null,
   "metadata": {},
   "outputs": [],
   "source": [
    "def main_gaussian(w, x, s, z, gamma, beta_0, beta_1, sigma):\n",
    "\n",
    "    for i in range(10_000):\n",
    "        sigma = sample_sigma(sigma, z, w, x, beta_0, beta_1, gamma, g_0, G_0)\n",
    "        s_star, z = sample_zi_star(w, x, s, z, gamma, beta_0, beta_1, sigma)\n",
    "        beta = sample_beta(w, x, s, z, gamma, beta_0, beta_1, sigma, B_0, beta_0_init, s_star)\n",
    "    \n",
    "    return beta, sigma"
   ]
  },
  {
   "attachments": {},
   "cell_type": "markdown",
   "metadata": {},
   "source": [
    "## Mixture"
   ]
  },
  {
   "cell_type": "code",
   "execution_count": null,
   "metadata": {},
   "outputs": [],
   "source": [
    "m=2\n",
    "p=[0.5, 0.5]"
   ]
  }
 ],
 "metadata": {
  "kernelspec": {
   "display_name": "venv",
   "language": "python",
   "name": "python3"
  },
  "language_info": {
   "codemirror_mode": {
    "name": "ipython",
    "version": 3
   },
   "file_extension": ".py",
   "mimetype": "text/x-python",
   "name": "python",
   "nbconvert_exporter": "python",
   "pygments_lexer": "ipython3",
   "version": "3.9.13"
  },
  "orig_nbformat": 4,
  "vscode": {
   "interpreter": {
    "hash": "737dc7a53ad0f66992e7d8e25dc907e77810167821e3c90ca70c5c5ee7cee45a"
   }
  }
 },
 "nbformat": 4,
 "nbformat_minor": 2
}
