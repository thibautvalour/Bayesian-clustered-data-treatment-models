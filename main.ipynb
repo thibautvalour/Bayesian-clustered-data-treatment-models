{
 "cells": [
  {
   "cell_type": "code",
   "execution_count": 1,
   "metadata": {},
   "outputs": [],
   "source": [
    "import numpy as np\n",
    "import pandas as pd\n",
    "import matplotlib.pyplot as plt\n",
    "import seaborn as sns\n",
    "\n",
    "import scipy.stats as stats\n",
    "from scipy.optimize import minimize\n",
    "\n",
    "import autograd.numpy as auto_np\n",
    "from autograd import hessian\n",
    "\n",
    "from utils import is_positive_definite, flat_sigma_to_sigma_matrix, sigma_matrix_to_flat_sigma\n",
    "from init import init\n",
    "\n",
    "\n",
    "def likelyhood_ys(w, x, s, z, gamma, beta_0, beta_1, sigma_matrix): # TODO : correct bugs\n",
    "    \n",
    "    prod = 1\n",
    "    for i in range(len(z)):\n",
    "        treatment = s[i]\n",
    "        if treatment == 0:\n",
    "            fn = stats.norm.pdf(z[0][i],  loc=np.dot(x[i], beta_0), \n",
    "                                scale=sigma_matrix[1][1]**2)\n",
    "            normal_cdf = stats.norm.cdf((np.dot(-w[i], gamma) - (sigma_matrix[0][1]/sigma_matrix[1][1])\n",
    "                                         * (z[0][i] - np.dot(x[i], beta_0)))\n",
    "                                         / (1-sigma_matrix[0][1]**2/sigma_matrix[1][1])**0.5)\n",
    "        else:\n",
    "            fn = stats.norm.pdf(z[1][i],  loc=np.dot(x[i], beta_1), \n",
    "                                scale=sigma_matrix[2][2]**2)\n",
    "            normal_cdf = stats.norm.cdf((np.dot(-w[i], gamma) - (sigma_matrix[0][2]/sigma_matrix[2][2])\n",
    "                                         * (z[1][i] - np.dot(x[i], beta_1)))\n",
    "                                         / (1-sigma_matrix[0][2]**2/sigma_matrix[2][2])**0.5)\n",
    "        prod *= fn * normal_cdf\n",
    "\n",
    "    return prod\n",
    "\n",
    "def g_sigma(w, s, x, z, beta_0, beta_1, gamma, sigma_matrix, g_0, G_0):\n",
    "\n",
    "     # likelihood of ys given sigma\n",
    "    first_term = likelyhood_ys(w, x, s, z, gamma, beta_0, beta_1, sigma_matrix)\n",
    "\n",
    "    # density of sigma given g_0, G_0\n",
    "    flat_sigma = sigma_matrix_to_flat_sigma(sigma_matrix)\n",
    "    second_term = stats.multivariate_normal.pdf(flat_sigma, g_0, G_0)\n",
    "\n",
    "    third_term = is_positive_definite(sigma_matrix)\n",
    "\n",
    "    result = first_term * second_term * third_term\n",
    "    return result\n",
    "\n",
    "def q_sigma(w, s, x, z, beta_0, beta_1, gamma, sigma_matrix, g_0, G_0, sample=True):\n",
    "\n",
    "    def log_g_sigma(sigma_matrix):\n",
    "        return np.log(g_sigma(w, s, x, z, beta_0, beta_1, gamma, sigma_matrix, g_0, G_0))\n",
    "    H = hessian(log_g_sigma)(sigma_matrix)\n",
    "    V = np.linalg.inv(-H)\n",
    "\n",
    "    # Compute mu the mode of sub_log_g_sigma\n",
    "    result = minimize(-log_g_sigma, x0=sigma_matrix)\n",
    "    mode = result.x[0]\n",
    "\n",
    "    if sample:\n",
    "        # sample from multivariate t density\n",
    "        return stats.multivariate_t.rvs(loc=mode, shape=V)\n",
    "    else:\n",
    "        # return likelyhood of sigma given mode and V\n",
    "        return stats.multivariate_t.pdf(sigma_matrix, mode, V)\n",
    "        \n",
    "\n",
    "def sample_sigma(old_sigma_matrix, s, w, x, z, beta_0, beta_1, gamma, g_0, G_0):\n",
    "    old_likelihood = (g_sigma(w, s, x, z, beta_0, beta_1, gamma, old_sigma_matrix, g_0, G_0)*\n",
    "                      q_sigma(w, s, x, z, beta_0, beta_1, gamma, old_sigma_matrix, g_0, G_0, sample=False))\n",
    "\n",
    "    new_sigma_matrix = q_sigma(w, x, z, beta_0, beta_1, gamma, sigma_matrix, g_0, G_0, sample=True)\n",
    "\n",
    "    new_likelihood = (g_sigma(w, x, z, beta_0, beta_1, gamma, new_sigma_matrix, g_0, G_0)\n",
    "                      *q_sigma(w, x, z, beta_0, beta_1, gamma, new_sigma_matrix, g_0, G_0, sample=False))\n",
    "    acceptance_ratio = new_likelihood / old_likelihood\n",
    "    if acceptance_ratio > np.random.uniform():\n",
    "        return new_sigma_matrix\n",
    "    else:\n",
    "        return old_sigma_matrix\n",
    "\n",
    "    \n",
    "def sample_zi_star(w, x, s, z, gamma, beta_0, beta_1, sigma):\n",
    "    '''zi_star = si_star, z_i[1 - si]\n",
    "    '''\n",
    "    si_star = np.zeros(len(s))\n",
    "    for i in range(len(s)):\n",
    "        treatment = s[i]\n",
    "        if treatment == 0:\n",
    "            si_star[i] = stats.truncnorm.rvs(a=-np.inf, b=0,\n",
    "                                             oc=np.dot(w[i], gamma), scale=1)\n",
    "            z[1][i] = stats.norm.rvs(loc=np.dot(x[i], beta_1),\n",
    "                                     scale=sigma[2][2]**2) #TODO : où est si*\n",
    "        else:\n",
    "            si_star[i] = stats.truncnorm.rvs(a=0, b=np.inf,\n",
    "                                             loc=np.dot(w[i], gamma), scale=1)\n",
    "            z[0][i] = stats.norm.rvs(loc=np.dot(x[i], beta_0),\n",
    "                                     scale=sigma[1][1]**2) #TODO : où est si*\n",
    "    return si_star, z\n",
    "\n",
    "def sample_beta(w, x, s, z, gamma, beta_0,\n",
    "                beta_1, sigma, B_0, beta_0_init, s_star):\n",
    "    new_z = np.zeros(len(s), 3)\n",
    "    new_z[:, 0], new_z[:,1], new_z[:, 2] = s_star, z[0], z[1]\n",
    "    big_X = np.zeros(len(s), 3)\n",
    "    big_X[:, 0], big_X[:, 1], big_X[:, 2] = s, x, x\n",
    "\n",
    "    sigma_inv = np.linalg.inv(sigma)\n",
    "    B_0_inv = np.linalg.inv(B_0)\n",
    "    B = np.linalg.inv(B_0_inv + np.sum([np.dot(np.dot(big_X[i], sigma_inv), big_X[i]) for i in range(len(big_X))]))\n",
    "    beta_hat = np.dot(B, np.dot(B_0_inv, beta_0_init)\n",
    "                         + np.sum([np.dot(np.dot(big_X[i], sigma_inv), new_z[i]) for i in range(len(big_X))]))\n",
    "\n",
    "    new_beta = stats.multivariate_normal.rvs(loc=beta_hat, shape=B)\n",
    "    return new_beta\n",
    "\n",
    "def super_update(w, x, s, z, gamma,  sigma_matrix, beta_0, beta_1, g_0, G_0, beta_0_init, B_0):\n",
    "    new_sigma = sample_sigma(sigma_matrix, s, w, x, z, beta_0, beta_1, gamma, g_0, G_0)\n",
    "    s_star, z = sample_zi_star(w, x, s, z, gamma, beta_0, beta_1, new_sigma)\n",
    "    new_beta = sample_beta(w, x, s, z, gamma, beta_0, beta_1, new_sigma, B_0, beta_0_init, s_star)\n",
    "    return new_sigma, new_beta\n",
    "\n",
    "def main_gaussian(w, x, s, z, gamma, beta_0, beta_1, sigma): # TODO : correct arguments\n",
    "    for i in range(10_000):\n",
    "        sigma, beta = super_update(w, x, s, z, gamma, beta_0, beta_1, sigma)\n",
    "    return beta, sigma"
   ]
  },
  {
   "cell_type": "code",
   "execution_count": 2,
   "metadata": {},
   "outputs": [],
   "source": [
    "s, w, x, y, z, sigma_matrix, beta, g_0, G_0, beta_0_init, B_0 = init()\n",
    "gamma, beta_0, beta_1 = beta[:5], beta[5:9], beta[9:]"
   ]
  },
  {
   "cell_type": "code",
   "execution_count": 3,
   "metadata": {},
   "outputs": [
    {
     "data": {
      "text/plain": [
       "0.0"
      ]
     },
     "execution_count": 3,
     "metadata": {},
     "output_type": "execute_result"
    }
   ],
   "source": [
    "z[1][0]\n",
    "stats.norm.pdf(z[1][0],  loc=np.dot(x[0], beta_1))"
   ]
  },
  {
   "cell_type": "code",
   "execution_count": 8,
   "metadata": {},
   "outputs": [],
   "source": [
    "def log_g_sigma(sigma_matrix):\n",
    "        return np.log(g_sigma(w, s, x, z, beta_0, beta_1, gamma, sigma_matrix, g_0, G_0))\n",
    "H = hessian(log_g_sigma)(sigma_matrix)"
   ]
  },
  {
   "cell_type": "code",
   "execution_count": null,
   "metadata": {},
   "outputs": [],
   "source": [
    "H"
   ]
  },
  {
   "cell_type": "code",
   "execution_count": 16,
   "metadata": {},
   "outputs": [
    {
     "ename": "ValueError",
     "evalue": "setting an array element with a sequence.",
     "output_type": "error",
     "traceback": [
      "\u001b[1;31m---------------------------------------------------------------------------\u001b[0m",
      "\u001b[1;31mTypeError\u001b[0m                                 Traceback (most recent call last)",
      "\u001b[1;31mTypeError\u001b[0m: float() argument must be a string or a number, not 'ArrayBox'",
      "\nThe above exception was the direct cause of the following exception:\n",
      "\u001b[1;31mValueError\u001b[0m                                Traceback (most recent call last)",
      "Cell \u001b[1;32mIn[16], line 1\u001b[0m\n\u001b[1;32m----> 1\u001b[0m super_update(w, x, s, z, gamma,  sigma_matrix, beta_0, beta_1, g_0, G_0, beta_0_init, B_0)\n",
      "Cell \u001b[1;32mIn[14], line 2\u001b[0m, in \u001b[0;36msuper_update\u001b[1;34m(w, x, s, z, gamma, sigma_matrix, beta_0, beta_1, g_0, G_0, beta_0_init, B_0)\u001b[0m\n\u001b[0;32m      1\u001b[0m \u001b[39mdef\u001b[39;00m \u001b[39msuper_update\u001b[39m(w, x, s, z, gamma,  sigma_matrix, beta_0, beta_1, g_0, G_0, beta_0_init, B_0):\n\u001b[1;32m----> 2\u001b[0m     new_sigma \u001b[39m=\u001b[39m sample_sigma(sigma_matrix, s, w, x, z, beta_0, beta_1, gamma, g_0, G_0)\n\u001b[0;32m      3\u001b[0m     s_star, z \u001b[39m=\u001b[39m sample_zi_star(w, x, s, z, gamma, beta_0, beta_1, new_sigma)\n\u001b[0;32m      4\u001b[0m     new_beta \u001b[39m=\u001b[39m sample_beta(w, x, s, z, gamma, beta_0, beta_1, new_sigma, B_0, beta_0_init, s_star)\n",
      "Cell \u001b[1;32mIn[13], line 57\u001b[0m, in \u001b[0;36msample_sigma\u001b[1;34m(old_sigma_matrix, s, w, x, z, beta_0, beta_1, gamma, g_0, G_0)\u001b[0m\n\u001b[0;32m     55\u001b[0m \u001b[39mdef\u001b[39;00m \u001b[39msample_sigma\u001b[39m(old_sigma_matrix, s, w, x, z, beta_0, beta_1, gamma, g_0, G_0):\n\u001b[0;32m     56\u001b[0m     old_likelihood \u001b[39m=\u001b[39m (g_sigma(w, s, x, z, beta_0, beta_1, gamma, old_sigma_matrix, g_0, G_0)\u001b[39m*\u001b[39m\n\u001b[1;32m---> 57\u001b[0m                       q_sigma(w, s, x, z, beta_0, beta_1, gamma, old_sigma_matrix, g_0, G_0, sample\u001b[39m=\u001b[39;49m\u001b[39mFalse\u001b[39;49;00m))\n\u001b[0;32m     59\u001b[0m     new_sigma_matrix \u001b[39m=\u001b[39m q_sigma(w, x, z, beta_0, beta_1, gamma, sigma_matrix, g_0, G_0, sample\u001b[39m=\u001b[39m\u001b[39mTrue\u001b[39;00m)\n\u001b[0;32m     61\u001b[0m     new_likelihood \u001b[39m=\u001b[39m (g_sigma(w, x, z, beta_0, beta_1, gamma, new_sigma_matrix, g_0, G_0)\n\u001b[0;32m     62\u001b[0m                       \u001b[39m*\u001b[39mq_sigma(w, x, z, beta_0, beta_1, gamma, new_sigma_matrix, g_0, G_0, sample\u001b[39m=\u001b[39m\u001b[39mFalse\u001b[39;00m))\n",
      "Cell \u001b[1;32mIn[13], line 40\u001b[0m, in \u001b[0;36mq_sigma\u001b[1;34m(w, s, x, z, beta_0, beta_1, gamma, sigma_matrix, g_0, G_0, sample)\u001b[0m\n\u001b[0;32m     38\u001b[0m \u001b[39mdef\u001b[39;00m \u001b[39mlog_g_sigma\u001b[39m(sigma_matrix):\n\u001b[0;32m     39\u001b[0m     \u001b[39mreturn\u001b[39;00m np\u001b[39m.\u001b[39mlog(g_sigma(w, s, x, z, beta_0, beta_1, gamma, sigma_matrix, g_0, G_0))\n\u001b[1;32m---> 40\u001b[0m H \u001b[39m=\u001b[39m hessian(log_g_sigma)(sigma_matrix)\n\u001b[0;32m     41\u001b[0m V \u001b[39m=\u001b[39m np\u001b[39m.\u001b[39mlinalg\u001b[39m.\u001b[39minv(\u001b[39m-\u001b[39mH)\n\u001b[0;32m     43\u001b[0m \u001b[39m# Compute mu the mode of sub_log_g_sigma\u001b[39;00m\n",
      "File \u001b[1;32mc:\\Users\\33646\\Desktop\\ENSAE\\Stat_Bayesienne\\Projet\\venv\\lib\\site-packages\\autograd\\wrap_util.py:20\u001b[0m, in \u001b[0;36munary_to_nary.<locals>.nary_operator.<locals>.nary_f\u001b[1;34m(*args, **kwargs)\u001b[0m\n\u001b[0;32m     18\u001b[0m \u001b[39melse\u001b[39;00m:\n\u001b[0;32m     19\u001b[0m     x \u001b[39m=\u001b[39m \u001b[39mtuple\u001b[39m(args[i] \u001b[39mfor\u001b[39;00m i \u001b[39min\u001b[39;00m argnum)\n\u001b[1;32m---> 20\u001b[0m \u001b[39mreturn\u001b[39;00m unary_operator(unary_f, x, \u001b[39m*\u001b[39mnary_op_args, \u001b[39m*\u001b[39m\u001b[39m*\u001b[39mnary_op_kwargs)\n",
      "File \u001b[1;32mc:\\Users\\33646\\Desktop\\ENSAE\\Stat_Bayesienne\\Projet\\venv\\lib\\site-packages\\autograd\\differential_operators.py:81\u001b[0m, in \u001b[0;36mhessian\u001b[1;34m(fun, x)\u001b[0m\n\u001b[0;32m     78\u001b[0m \u001b[39m@unary_to_nary\u001b[39m\n\u001b[0;32m     79\u001b[0m \u001b[39mdef\u001b[39;00m \u001b[39mhessian\u001b[39m(fun, x):\n\u001b[0;32m     80\u001b[0m     \u001b[39m\"\u001b[39m\u001b[39mReturns a function that computes the exact Hessian.\u001b[39m\u001b[39m\"\u001b[39m\n\u001b[1;32m---> 81\u001b[0m     \u001b[39mreturn\u001b[39;00m jacobian(jacobian(fun))(x)\n",
      "File \u001b[1;32mc:\\Users\\33646\\Desktop\\ENSAE\\Stat_Bayesienne\\Projet\\venv\\lib\\site-packages\\autograd\\wrap_util.py:20\u001b[0m, in \u001b[0;36munary_to_nary.<locals>.nary_operator.<locals>.nary_f\u001b[1;34m(*args, **kwargs)\u001b[0m\n\u001b[0;32m     18\u001b[0m \u001b[39melse\u001b[39;00m:\n\u001b[0;32m     19\u001b[0m     x \u001b[39m=\u001b[39m \u001b[39mtuple\u001b[39m(args[i] \u001b[39mfor\u001b[39;00m i \u001b[39min\u001b[39;00m argnum)\n\u001b[1;32m---> 20\u001b[0m \u001b[39mreturn\u001b[39;00m unary_operator(unary_f, x, \u001b[39m*\u001b[39mnary_op_args, \u001b[39m*\u001b[39m\u001b[39m*\u001b[39mnary_op_kwargs)\n",
      "File \u001b[1;32mc:\\Users\\33646\\Desktop\\ENSAE\\Stat_Bayesienne\\Projet\\venv\\lib\\site-packages\\autograd\\differential_operators.py:60\u001b[0m, in \u001b[0;36mjacobian\u001b[1;34m(fun, x)\u001b[0m\n\u001b[0;32m     50\u001b[0m \u001b[39m@unary_to_nary\u001b[39m\n\u001b[0;32m     51\u001b[0m \u001b[39mdef\u001b[39;00m \u001b[39mjacobian\u001b[39m(fun, x):\n\u001b[0;32m     52\u001b[0m \u001b[39m    \u001b[39m\u001b[39m\"\"\"\u001b[39;00m\n\u001b[0;32m     53\u001b[0m \u001b[39m    Returns a function which computes the Jacobian of `fun` with respect to\u001b[39;00m\n\u001b[0;32m     54\u001b[0m \u001b[39m    positional argument number `argnum`, which must be a scalar or array. Unlike\u001b[39;00m\n\u001b[1;32m   (...)\u001b[0m\n\u001b[0;32m     58\u001b[0m \u001b[39m    (out1, out2, ...) then the Jacobian has shape (out1, out2, ..., in1, in2, ...).\u001b[39;00m\n\u001b[0;32m     59\u001b[0m \u001b[39m    \"\"\"\u001b[39;00m\n\u001b[1;32m---> 60\u001b[0m     vjp, ans \u001b[39m=\u001b[39m _make_vjp(fun, x)\n\u001b[0;32m     61\u001b[0m     ans_vspace \u001b[39m=\u001b[39m vspace(ans)\n\u001b[0;32m     62\u001b[0m     jacobian_shape \u001b[39m=\u001b[39m ans_vspace\u001b[39m.\u001b[39mshape \u001b[39m+\u001b[39m vspace(x)\u001b[39m.\u001b[39mshape\n",
      "File \u001b[1;32mc:\\Users\\33646\\Desktop\\ENSAE\\Stat_Bayesienne\\Projet\\venv\\lib\\site-packages\\autograd\\core.py:10\u001b[0m, in \u001b[0;36mmake_vjp\u001b[1;34m(fun, x)\u001b[0m\n\u001b[0;32m      8\u001b[0m \u001b[39mdef\u001b[39;00m \u001b[39mmake_vjp\u001b[39m(fun, x):\n\u001b[0;32m      9\u001b[0m     start_node \u001b[39m=\u001b[39m VJPNode\u001b[39m.\u001b[39mnew_root()\n\u001b[1;32m---> 10\u001b[0m     end_value, end_node \u001b[39m=\u001b[39m  trace(start_node, fun, x)\n\u001b[0;32m     11\u001b[0m     \u001b[39mif\u001b[39;00m end_node \u001b[39mis\u001b[39;00m \u001b[39mNone\u001b[39;00m:\n\u001b[0;32m     12\u001b[0m         \u001b[39mdef\u001b[39;00m \u001b[39mvjp\u001b[39m(g): \u001b[39mreturn\u001b[39;00m vspace(x)\u001b[39m.\u001b[39mzeros()\n",
      "File \u001b[1;32mc:\\Users\\33646\\Desktop\\ENSAE\\Stat_Bayesienne\\Projet\\venv\\lib\\site-packages\\autograd\\tracer.py:10\u001b[0m, in \u001b[0;36mtrace\u001b[1;34m(start_node, fun, x)\u001b[0m\n\u001b[0;32m      8\u001b[0m \u001b[39mwith\u001b[39;00m trace_stack\u001b[39m.\u001b[39mnew_trace() \u001b[39mas\u001b[39;00m t:\n\u001b[0;32m      9\u001b[0m     start_box \u001b[39m=\u001b[39m new_box(x, t, start_node)\n\u001b[1;32m---> 10\u001b[0m     end_box \u001b[39m=\u001b[39m fun(start_box)\n\u001b[0;32m     11\u001b[0m     \u001b[39mif\u001b[39;00m isbox(end_box) \u001b[39mand\u001b[39;00m end_box\u001b[39m.\u001b[39m_trace \u001b[39m==\u001b[39m start_box\u001b[39m.\u001b[39m_trace:\n\u001b[0;32m     12\u001b[0m         \u001b[39mreturn\u001b[39;00m end_box\u001b[39m.\u001b[39m_value, end_box\u001b[39m.\u001b[39m_node\n",
      "File \u001b[1;32mc:\\Users\\33646\\Desktop\\ENSAE\\Stat_Bayesienne\\Projet\\venv\\lib\\site-packages\\autograd\\wrap_util.py:15\u001b[0m, in \u001b[0;36munary_to_nary.<locals>.nary_operator.<locals>.nary_f.<locals>.unary_f\u001b[1;34m(x)\u001b[0m\n\u001b[0;32m     13\u001b[0m \u001b[39melse\u001b[39;00m:\n\u001b[0;32m     14\u001b[0m     subargs \u001b[39m=\u001b[39m subvals(args, \u001b[39mzip\u001b[39m(argnum, x))\n\u001b[1;32m---> 15\u001b[0m \u001b[39mreturn\u001b[39;00m fun(\u001b[39m*\u001b[39msubargs, \u001b[39m*\u001b[39m\u001b[39m*\u001b[39mkwargs)\n",
      "File \u001b[1;32mc:\\Users\\33646\\Desktop\\ENSAE\\Stat_Bayesienne\\Projet\\venv\\lib\\site-packages\\autograd\\wrap_util.py:20\u001b[0m, in \u001b[0;36munary_to_nary.<locals>.nary_operator.<locals>.nary_f\u001b[1;34m(*args, **kwargs)\u001b[0m\n\u001b[0;32m     18\u001b[0m \u001b[39melse\u001b[39;00m:\n\u001b[0;32m     19\u001b[0m     x \u001b[39m=\u001b[39m \u001b[39mtuple\u001b[39m(args[i] \u001b[39mfor\u001b[39;00m i \u001b[39min\u001b[39;00m argnum)\n\u001b[1;32m---> 20\u001b[0m \u001b[39mreturn\u001b[39;00m unary_operator(unary_f, x, \u001b[39m*\u001b[39mnary_op_args, \u001b[39m*\u001b[39m\u001b[39m*\u001b[39mnary_op_kwargs)\n",
      "File \u001b[1;32mc:\\Users\\33646\\Desktop\\ENSAE\\Stat_Bayesienne\\Projet\\venv\\lib\\site-packages\\autograd\\differential_operators.py:60\u001b[0m, in \u001b[0;36mjacobian\u001b[1;34m(fun, x)\u001b[0m\n\u001b[0;32m     50\u001b[0m \u001b[39m@unary_to_nary\u001b[39m\n\u001b[0;32m     51\u001b[0m \u001b[39mdef\u001b[39;00m \u001b[39mjacobian\u001b[39m(fun, x):\n\u001b[0;32m     52\u001b[0m \u001b[39m    \u001b[39m\u001b[39m\"\"\"\u001b[39;00m\n\u001b[0;32m     53\u001b[0m \u001b[39m    Returns a function which computes the Jacobian of `fun` with respect to\u001b[39;00m\n\u001b[0;32m     54\u001b[0m \u001b[39m    positional argument number `argnum`, which must be a scalar or array. Unlike\u001b[39;00m\n\u001b[1;32m   (...)\u001b[0m\n\u001b[0;32m     58\u001b[0m \u001b[39m    (out1, out2, ...) then the Jacobian has shape (out1, out2, ..., in1, in2, ...).\u001b[39;00m\n\u001b[0;32m     59\u001b[0m \u001b[39m    \"\"\"\u001b[39;00m\n\u001b[1;32m---> 60\u001b[0m     vjp, ans \u001b[39m=\u001b[39m _make_vjp(fun, x)\n\u001b[0;32m     61\u001b[0m     ans_vspace \u001b[39m=\u001b[39m vspace(ans)\n\u001b[0;32m     62\u001b[0m     jacobian_shape \u001b[39m=\u001b[39m ans_vspace\u001b[39m.\u001b[39mshape \u001b[39m+\u001b[39m vspace(x)\u001b[39m.\u001b[39mshape\n",
      "File \u001b[1;32mc:\\Users\\33646\\Desktop\\ENSAE\\Stat_Bayesienne\\Projet\\venv\\lib\\site-packages\\autograd\\core.py:10\u001b[0m, in \u001b[0;36mmake_vjp\u001b[1;34m(fun, x)\u001b[0m\n\u001b[0;32m      8\u001b[0m \u001b[39mdef\u001b[39;00m \u001b[39mmake_vjp\u001b[39m(fun, x):\n\u001b[0;32m      9\u001b[0m     start_node \u001b[39m=\u001b[39m VJPNode\u001b[39m.\u001b[39mnew_root()\n\u001b[1;32m---> 10\u001b[0m     end_value, end_node \u001b[39m=\u001b[39m  trace(start_node, fun, x)\n\u001b[0;32m     11\u001b[0m     \u001b[39mif\u001b[39;00m end_node \u001b[39mis\u001b[39;00m \u001b[39mNone\u001b[39;00m:\n\u001b[0;32m     12\u001b[0m         \u001b[39mdef\u001b[39;00m \u001b[39mvjp\u001b[39m(g): \u001b[39mreturn\u001b[39;00m vspace(x)\u001b[39m.\u001b[39mzeros()\n",
      "File \u001b[1;32mc:\\Users\\33646\\Desktop\\ENSAE\\Stat_Bayesienne\\Projet\\venv\\lib\\site-packages\\autograd\\tracer.py:10\u001b[0m, in \u001b[0;36mtrace\u001b[1;34m(start_node, fun, x)\u001b[0m\n\u001b[0;32m      8\u001b[0m \u001b[39mwith\u001b[39;00m trace_stack\u001b[39m.\u001b[39mnew_trace() \u001b[39mas\u001b[39;00m t:\n\u001b[0;32m      9\u001b[0m     start_box \u001b[39m=\u001b[39m new_box(x, t, start_node)\n\u001b[1;32m---> 10\u001b[0m     end_box \u001b[39m=\u001b[39m fun(start_box)\n\u001b[0;32m     11\u001b[0m     \u001b[39mif\u001b[39;00m isbox(end_box) \u001b[39mand\u001b[39;00m end_box\u001b[39m.\u001b[39m_trace \u001b[39m==\u001b[39m start_box\u001b[39m.\u001b[39m_trace:\n\u001b[0;32m     12\u001b[0m         \u001b[39mreturn\u001b[39;00m end_box\u001b[39m.\u001b[39m_value, end_box\u001b[39m.\u001b[39m_node\n",
      "File \u001b[1;32mc:\\Users\\33646\\Desktop\\ENSAE\\Stat_Bayesienne\\Projet\\venv\\lib\\site-packages\\autograd\\wrap_util.py:15\u001b[0m, in \u001b[0;36munary_to_nary.<locals>.nary_operator.<locals>.nary_f.<locals>.unary_f\u001b[1;34m(x)\u001b[0m\n\u001b[0;32m     13\u001b[0m \u001b[39melse\u001b[39;00m:\n\u001b[0;32m     14\u001b[0m     subargs \u001b[39m=\u001b[39m subvals(args, \u001b[39mzip\u001b[39m(argnum, x))\n\u001b[1;32m---> 15\u001b[0m \u001b[39mreturn\u001b[39;00m fun(\u001b[39m*\u001b[39msubargs, \u001b[39m*\u001b[39m\u001b[39m*\u001b[39mkwargs)\n",
      "File \u001b[1;32mc:\\Users\\33646\\Desktop\\ENSAE\\Stat_Bayesienne\\Projet\\venv\\lib\\site-packages\\autograd\\wrap_util.py:15\u001b[0m, in \u001b[0;36munary_to_nary.<locals>.nary_operator.<locals>.nary_f.<locals>.unary_f\u001b[1;34m(x)\u001b[0m\n\u001b[0;32m     13\u001b[0m \u001b[39melse\u001b[39;00m:\n\u001b[0;32m     14\u001b[0m     subargs \u001b[39m=\u001b[39m subvals(args, \u001b[39mzip\u001b[39m(argnum, x))\n\u001b[1;32m---> 15\u001b[0m \u001b[39mreturn\u001b[39;00m fun(\u001b[39m*\u001b[39msubargs, \u001b[39m*\u001b[39m\u001b[39m*\u001b[39mkwargs)\n",
      "Cell \u001b[1;32mIn[13], line 39\u001b[0m, in \u001b[0;36mq_sigma.<locals>.log_g_sigma\u001b[1;34m(sigma_matrix)\u001b[0m\n\u001b[0;32m     38\u001b[0m \u001b[39mdef\u001b[39;00m \u001b[39mlog_g_sigma\u001b[39m(sigma_matrix):\n\u001b[1;32m---> 39\u001b[0m     \u001b[39mreturn\u001b[39;00m np\u001b[39m.\u001b[39mlog(g_sigma(w, s, x, z, beta_0, beta_1, gamma, sigma_matrix, g_0, G_0))\n",
      "Cell \u001b[1;32mIn[13], line 25\u001b[0m, in \u001b[0;36mg_sigma\u001b[1;34m(w, s, x, z, beta_0, beta_1, gamma, sigma_matrix, g_0, G_0)\u001b[0m\n\u001b[0;32m     22\u001b[0m \u001b[39mdef\u001b[39;00m \u001b[39mg_sigma\u001b[39m(w, s, x, z, beta_0, beta_1, gamma, sigma_matrix, g_0, G_0):\n\u001b[0;32m     23\u001b[0m \n\u001b[0;32m     24\u001b[0m      \u001b[39m# likelihood of ys given sigma\u001b[39;00m\n\u001b[1;32m---> 25\u001b[0m     first_term \u001b[39m=\u001b[39m likelyhood_ys(w, x, s, z, gamma, beta_0, beta_1, sigma_matrix)\n\u001b[0;32m     27\u001b[0m     \u001b[39m# density of sigma given g_0, G_0\u001b[39;00m\n\u001b[0;32m     28\u001b[0m     flat_sigma \u001b[39m=\u001b[39m sigma_matrix_to_flat_sigma(sigma_matrix)\n",
      "Cell \u001b[1;32mIn[13], line 13\u001b[0m, in \u001b[0;36mlikelyhood_ys\u001b[1;34m(w, x, s, z, gamma, beta_0, beta_1, sigma_matrix)\u001b[0m\n\u001b[0;32m      9\u001b[0m     normal_cdf \u001b[39m=\u001b[39m stats\u001b[39m.\u001b[39mnorm\u001b[39m.\u001b[39mcdf((np\u001b[39m.\u001b[39mdot(\u001b[39m-\u001b[39mw[i], gamma) \u001b[39m-\u001b[39m (sigma_matrix[\u001b[39m0\u001b[39m][\u001b[39m1\u001b[39m]\u001b[39m/\u001b[39msigma_matrix[\u001b[39m1\u001b[39m][\u001b[39m1\u001b[39m])\n\u001b[0;32m     10\u001b[0m                                  \u001b[39m*\u001b[39m (z[\u001b[39m0\u001b[39m][i] \u001b[39m-\u001b[39m np\u001b[39m.\u001b[39mdot(x[i], beta_0)))\n\u001b[0;32m     11\u001b[0m                                  \u001b[39m/\u001b[39m (\u001b[39m1\u001b[39m\u001b[39m-\u001b[39msigma_matrix[\u001b[39m0\u001b[39m][\u001b[39m1\u001b[39m]\u001b[39m*\u001b[39m\u001b[39m*\u001b[39m\u001b[39m2\u001b[39m\u001b[39m/\u001b[39msigma_matrix[\u001b[39m1\u001b[39m][\u001b[39m1\u001b[39m])\u001b[39m*\u001b[39m\u001b[39m*\u001b[39m\u001b[39m0.5\u001b[39m)\n\u001b[0;32m     12\u001b[0m \u001b[39melse\u001b[39;00m:\n\u001b[1;32m---> 13\u001b[0m     fn \u001b[39m=\u001b[39m stats\u001b[39m.\u001b[39;49mnorm\u001b[39m.\u001b[39;49mpdf(z[\u001b[39m1\u001b[39;49m][i],  loc\u001b[39m=\u001b[39;49mnp\u001b[39m.\u001b[39;49mdot(x[i], beta_1), \n\u001b[0;32m     14\u001b[0m                         scale\u001b[39m=\u001b[39;49msigma_matrix[\u001b[39m2\u001b[39;49m][\u001b[39m2\u001b[39;49m]\u001b[39m*\u001b[39;49m\u001b[39m*\u001b[39;49m\u001b[39m2\u001b[39;49m)\n\u001b[0;32m     15\u001b[0m     normal_cdf \u001b[39m=\u001b[39m stats\u001b[39m.\u001b[39mnorm\u001b[39m.\u001b[39mcdf((np\u001b[39m.\u001b[39mdot(\u001b[39m-\u001b[39mw[i], gamma) \u001b[39m-\u001b[39m (sigma_matrix[\u001b[39m0\u001b[39m][\u001b[39m2\u001b[39m]\u001b[39m/\u001b[39msigma_matrix[\u001b[39m2\u001b[39m][\u001b[39m2\u001b[39m])\n\u001b[0;32m     16\u001b[0m                                  \u001b[39m*\u001b[39m (z[\u001b[39m1\u001b[39m][i] \u001b[39m-\u001b[39m np\u001b[39m.\u001b[39mdot(x[i], beta_1)))\n\u001b[0;32m     17\u001b[0m                                  \u001b[39m/\u001b[39m (\u001b[39m1\u001b[39m\u001b[39m-\u001b[39msigma_matrix[\u001b[39m0\u001b[39m][\u001b[39m2\u001b[39m]\u001b[39m*\u001b[39m\u001b[39m*\u001b[39m\u001b[39m2\u001b[39m\u001b[39m/\u001b[39msigma_matrix[\u001b[39m2\u001b[39m][\u001b[39m2\u001b[39m])\u001b[39m*\u001b[39m\u001b[39m*\u001b[39m\u001b[39m0.5\u001b[39m)\n\u001b[0;32m     18\u001b[0m prod \u001b[39m*\u001b[39m\u001b[39m=\u001b[39m fn \u001b[39m*\u001b[39m normal_cdf\n",
      "File \u001b[1;32mc:\\Users\\33646\\Desktop\\ENSAE\\Stat_Bayesienne\\Projet\\venv\\lib\\site-packages\\scipy\\stats\\_distn_infrastructure.py:2093\u001b[0m, in \u001b[0;36mrv_continuous.pdf\u001b[1;34m(self, x, *args, **kwds)\u001b[0m\n\u001b[0;32m   2091\u001b[0m args \u001b[39m=\u001b[39m \u001b[39mtuple\u001b[39m(\u001b[39mmap\u001b[39m(asarray, args))\n\u001b[0;32m   2092\u001b[0m dtyp \u001b[39m=\u001b[39m np\u001b[39m.\u001b[39mpromote_types(x\u001b[39m.\u001b[39mdtype, np\u001b[39m.\u001b[39mfloat64)\n\u001b[1;32m-> 2093\u001b[0m x \u001b[39m=\u001b[39m np\u001b[39m.\u001b[39;49masarray((x \u001b[39m-\u001b[39;49m loc)\u001b[39m/\u001b[39;49mscale, dtype\u001b[39m=\u001b[39;49mdtyp)\n\u001b[0;32m   2094\u001b[0m cond0 \u001b[39m=\u001b[39m \u001b[39mself\u001b[39m\u001b[39m.\u001b[39m_argcheck(\u001b[39m*\u001b[39margs) \u001b[39m&\u001b[39m (scale \u001b[39m>\u001b[39m \u001b[39m0\u001b[39m)\n\u001b[0;32m   2095\u001b[0m cond1 \u001b[39m=\u001b[39m \u001b[39mself\u001b[39m\u001b[39m.\u001b[39m_support_mask(x, \u001b[39m*\u001b[39margs) \u001b[39m&\u001b[39m (scale \u001b[39m>\u001b[39m \u001b[39m0\u001b[39m)\n",
      "\u001b[1;31mValueError\u001b[0m: setting an array element with a sequence."
     ]
    }
   ],
   "source": [
    "super_update(w, x, s, z, gamma,  sigma_matrix, beta_0, beta_1, g_0, G_0, beta_0_init, B_0)"
   ]
  },
  {
   "attachments": {},
   "cell_type": "markdown",
   "metadata": {},
   "source": [
    "## Mixture"
   ]
  },
  {
   "cell_type": "code",
   "execution_count": 5,
   "metadata": {},
   "outputs": [],
   "source": [
    "m=2\n",
    "p=[0.5, 0.5]\n",
    "v = np.random.choice([0,1], size=len(s), p=p)\n",
    "# TODO : Créer les x y w z pour chaque groupe\n",
    "# TODO : appliquer la fonction super_update sur chaque groupe\n",
    "# TODO : update les v page 7 du papier 10_000 fois"
   ]
  },
  {
   "cell_type": "code",
   "execution_count": null,
   "metadata": {},
   "outputs": [],
   "source": []
  }
 ],
 "metadata": {
  "kernelspec": {
   "display_name": "venv",
   "language": "python",
   "name": "python3"
  },
  "language_info": {
   "codemirror_mode": {
    "name": "ipython",
    "version": 3
   },
   "file_extension": ".py",
   "mimetype": "text/x-python",
   "name": "python",
   "nbconvert_exporter": "python",
   "pygments_lexer": "ipython3",
   "version": "3.9.13 (tags/v3.9.13:6de2ca5, May 17 2022, 16:36:42) [MSC v.1929 64 bit (AMD64)]"
  },
  "orig_nbformat": 4,
  "vscode": {
   "interpreter": {
    "hash": "737dc7a53ad0f66992e7d8e25dc907e77810167821e3c90ca70c5c5ee7cee45a"
   }
  }
 },
 "nbformat": 4,
 "nbformat_minor": 2
}
