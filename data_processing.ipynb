{
 "cells": [
  {
   "cell_type": "code",
   "execution_count": 2,
   "metadata": {},
   "outputs": [],
   "source": [
    "import pandas as pd \n",
    "import numpy as np\n",
    "import os "
   ]
  },
  {
   "cell_type": "code",
   "execution_count": 3,
   "metadata": {},
   "outputs": [
    {
     "name": "stdout",
     "output_type": "stream",
     "text": [
      "WARNING *** OLE2 inconsistency: SSCS size is 0 but SSAT size is non-zero\n"
     ]
    }
   ],
   "source": [
    "# Read the xls file \n",
    "df = pd.read_excel('..\\data\\MDB-INSEE-V2.xls')"
   ]
  },
  {
   "cell_type": "code",
   "execution_count": 4,
   "metadata": {},
   "outputs": [],
   "source": [
    "columns_to_keep = ['CODGEO', 'Population', 'Evolution Pop %', 'Nb Majeurs', 'Nb Entreprises Secteur Services', 'Nb Entreprises Secteur Commerce',\n",
    "                   'Nb Entreprises Secteur Construction', 'Nb Entreprises Secteur Industrie', 'Nb Etudiants',\n",
    "                   'Dep Moyenne Salaires Horaires', 'Nb Actifs Salariés', 'Dep Moyenne Salaires Cadre Horaires', 'Nb Actifs Non Salariés', \n",
    "                   'Taux étudiants', 'Taux Propriété', 'Moyenne Revnus fiscaux', 'PIB Régionnal']\n",
    "\n",
    "df = df[columns_to_keep]"
   ]
  },
  {
   "cell_type": "code",
   "execution_count": 5,
   "metadata": {},
   "outputs": [],
   "source": [
    "df = df[df['Population'] > 1_000]\n",
    "df['Politique'] = np.random.choice(['0', '1'], len(df), p=[0.4, 0.6]) # 0 = autre, 1 = Les Républicains"
   ]
  },
  {
   "cell_type": "code",
   "execution_count": 28,
   "metadata": {},
   "outputs": [],
   "source": [
    "r_label = 'Nb Etudiants'\n",
    "s_label = 'Politique'\n",
    "x_label = ['Population', 'Nb Entreprises Secteur Commerce',\n",
    "           'Nb Entreprises Secteur Industrie', 'Taux Propriété'] \n",
    "\n",
    "w_label = [r_label] + x_label\n",
    "y_label =  'Dep Moyenne Salaires Cadre Horaires'"
   ]
  },
  {
   "cell_type": "code",
   "execution_count": 29,
   "metadata": {},
   "outputs": [
    {
     "name": "stdout",
     "output_type": "stream",
     "text": [
      "(8669,) (8669, 4) (8669,) (8669, 5)\n",
      "2 8669 8669\n"
     ]
    }
   ],
   "source": [
    "s = np.array(df[s_label])\n",
    "w = np.array(df[w_label])\n",
    "x = np.array(df[x_label])\n",
    "y = np.array(df[y_label])\n",
    "\n",
    "\n",
    "z = [[], []]\n",
    "for i in range(len(s)):\n",
    "    z[int(s[i])].append(y[i])\n",
    "    z[1-int(s[i])].append(np.nan)\n",
    "\n",
    "print(s.shape, x.shape, y.shape, w.shape)\n",
    "print(len(z), len(z[0]), len(z[1]))"
   ]
  },
  {
   "cell_type": "code",
   "execution_count": 30,
   "metadata": {},
   "outputs": [],
   "source": [
    "data_dict = {'s': s, 'w': w, 'x': x, 'y': y, 'z': z}"
   ]
  },
  {
   "cell_type": "code",
   "execution_count": 31,
   "metadata": {},
   "outputs": [],
   "source": [
    "# save the data\n",
    "np.save('../data/data_dict.npy', data_dict)"
   ]
  },
  {
   "cell_type": "code",
   "execution_count": 27,
   "metadata": {},
   "outputs": [],
   "source": []
  },
  {
   "cell_type": "code",
   "execution_count": null,
   "metadata": {},
   "outputs": [],
   "source": []
  }
 ],
 "metadata": {
  "kernelspec": {
   "display_name": "Python 3",
   "language": "python",
   "name": "python3"
  },
  "language_info": {
   "codemirror_mode": {
    "name": "ipython",
    "version": 3
   },
   "file_extension": ".py",
   "mimetype": "text/x-python",
   "name": "python",
   "nbconvert_exporter": "python",
   "pygments_lexer": "ipython3",
   "version": "3.9.13"
  },
  "orig_nbformat": 4,
  "vscode": {
   "interpreter": {
    "hash": "58af2f803b627e8db69abba8b9b7e59cdbeef39e99f30d639eca424b4ec7e992"
   }
  }
 },
 "nbformat": 4,
 "nbformat_minor": 2
}
